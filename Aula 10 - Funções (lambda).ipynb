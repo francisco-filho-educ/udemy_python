{
 "cells": [
  {
   "cell_type": "code",
   "execution_count": 1,
   "id": "worthy-adventure",
   "metadata": {},
   "outputs": [
    {
     "data": {
      "text/plain": [
       "8"
      ]
     },
     "execution_count": 1,
     "metadata": {},
     "output_type": "execute_result"
    }
   ],
   "source": [
    "# funções nativas:\n",
    "max([1,2,3,5,8,-11])"
   ]
  },
  {
   "cell_type": "code",
   "execution_count": 2,
   "id": "mobile-competition",
   "metadata": {},
   "outputs": [],
   "source": [
    "# funções definidas: (def)\n",
    "def vezes_5(x):\n",
    "    y = x*5\n",
    "    return y"
   ]
  },
  {
   "cell_type": "code",
   "execution_count": 3,
   "id": "supposed-causing",
   "metadata": {},
   "outputs": [
    {
     "data": {
      "text/plain": [
       "225"
      ]
     },
     "execution_count": 3,
     "metadata": {},
     "output_type": "execute_result"
    }
   ],
   "source": [
    "vezes_5(45) #chamando a função"
   ]
  },
  {
   "cell_type": "markdown",
   "id": "rapid-fence",
   "metadata": {},
   "source": [
    "#Funções anônimas (funções lambda): funções simplificadas, \n",
    "#usadas quando se quiser jogar uma função como parâmetro de outra funcao"
   ]
  },
  {
   "cell_type": "code",
   "execution_count": 4,
   "id": "ultimate-nancy",
   "metadata": {},
   "outputs": [],
   "source": [
    "# crie uma função que aplique um aumento em percentual para uma lista de salários:\n",
    "salarios = [2500,3580,6825,15654,947.66]"
   ]
  },
  {
   "cell_type": "code",
   "execution_count": 9,
   "id": "covered-operations",
   "metadata": {},
   "outputs": [],
   "source": [
    "#metodo tradicional\n",
    "def aumento(salario):\n",
    "    novo_salario = salario * 1.25\n",
    "    return novo_salario "
   ]
  },
  {
   "cell_type": "code",
   "execution_count": 10,
   "id": "coated-banks",
   "metadata": {},
   "outputs": [],
   "source": [
    "# a funcao map() aplica uma funcao a cada item de uma lista\n",
    "# map(função,interavel)\n",
    "salario_atual = map(aumento,salarios)"
   ]
  },
  {
   "cell_type": "code",
   "execution_count": 11,
   "id": "aquatic-ranch",
   "metadata": {},
   "outputs": [
    {
     "name": "stdout",
     "output_type": "stream",
     "text": [
      "[3125.0, 4475.0, 8531.25, 19567.5, 1184.575]\n"
     ]
    }
   ],
   "source": [
    "print(list(salario_atual))"
   ]
  },
  {
   "cell_type": "code",
   "execution_count": 16,
   "id": "going-firmware",
   "metadata": {},
   "outputs": [],
   "source": [
    "#usando a função lambda:\n",
    "salario_atual = map(lambda x:x*1.25,salarios) #multiplica cada elemento da lista"
   ]
  },
  {
   "cell_type": "code",
   "execution_count": 17,
   "id": "383a8b0b",
   "metadata": {},
   "outputs": [
    {
     "name": "stdout",
     "output_type": "stream",
     "text": [
      "[3125.0, 4475.0, 8531.25, 19567.5, 1184.575]\n"
     ]
    }
   ],
   "source": [
    "print(list(salario_atual))"
   ]
  },
  {
   "cell_type": "code",
   "execution_count": 20,
   "id": "2b53de4e",
   "metadata": {},
   "outputs": [],
   "source": [
    "#usando a função lambda:\n",
    "salario_atual = map(lambda valor_1:valor_1*1.25,salarios)\n",
    "#O nome do parametro (x ou  valor_1) não importa\n",
    " #desde que sejam iguais: x:x ou valor_1:valor_1"
   ]
  },
  {
   "cell_type": "code",
   "execution_count": 21,
   "id": "featured-country",
   "metadata": {},
   "outputs": [
    {
     "name": "stdout",
     "output_type": "stream",
     "text": [
      "[3125.0, 4475.0, 8531.25, 19567.5, 1184.575]\n"
     ]
    }
   ],
   "source": [
    "print(list(salario_atual))"
   ]
  },
  {
   "cell_type": "code",
   "execution_count": 4,
   "id": "grateful-domain",
   "metadata": {},
   "outputs": [],
   "source": [
    "# modificando uma lista dentro de outra lista\n",
    "produtos = [['P1',254],['P3',985],['P4',5],['P5',125],['P6',55],['P7',895],['P8',125],['P9',1145],['P10',585] ]"
   ]
  },
  {
   "cell_type": "code",
   "execution_count": 2,
   "id": "63461e54",
   "metadata": {},
   "outputs": [
    {
     "name": "stdout",
     "output_type": "stream",
     "text": [
      "[['P1', 254], ['P3', 985], ['P4', 5], ['P5', 125], ['P6', 55], ['P7', 895], ['P8', 125], ['P9', 1145], ['P10', 585]]\n"
     ]
    }
   ],
   "source": [
    "print(produtos)"
   ]
  },
  {
   "cell_type": "code",
   "execution_count": 7,
   "id": "8e45bb6a",
   "metadata": {},
   "outputs": [
    {
     "name": "stdout",
     "output_type": "stream",
     "text": [
      "[['P1', 254], ['P10', 585], ['P3', 985], ['P4', 5], ['P5', 125], ['P6', 55], ['P7', 895], ['P8', 125], ['P9', 1145]]\n"
     ]
    }
   ],
   "source": [
    "#ordenar produtos pelo preço\n",
    "#função sort, ordena a lista modificando-a\n",
    "produtos.sort() # é nessário indicar por qual indice será ordenado\n",
    "print(produtos)"
   ]
  },
  {
   "cell_type": "code",
   "execution_count": 8,
   "id": "4084e2b5",
   "metadata": {},
   "outputs": [],
   "source": [
    "#criando uma função que retorna um item da lista\n",
    "def funcao(item):\n",
    "    return item[1] # no caso o segundo elemento da tupla\n",
    "#funcao(produtos) "
   ]
  },
  {
   "cell_type": "code",
   "execution_count": 9,
   "id": "ba9c8761",
   "metadata": {},
   "outputs": [],
   "source": [
    "produtos.sort(key = funcao)"
   ]
  },
  {
   "cell_type": "code",
   "execution_count": 3,
   "id": "ae2d4cdf",
   "metadata": {},
   "outputs": [
    {
     "data": {
      "text/plain": [
       "[['P1', 254],\n",
       " ['P3', 985],\n",
       " ['P4', 5],\n",
       " ['P5', 125],\n",
       " ['P6', 55],\n",
       " ['P7', 895],\n",
       " ['P8', 125],\n",
       " ['P9', 1145],\n",
       " ['P10', 585]]"
      ]
     },
     "execution_count": 3,
     "metadata": {},
     "output_type": "execute_result"
    }
   ],
   "source": [
    "produtos"
   ]
  },
  {
   "cell_type": "code",
   "execution_count": 10,
   "id": "f59bca5f",
   "metadata": {},
   "outputs": [
    {
     "ename": "NameError",
     "evalue": "name 'salarios' is not defined",
     "output_type": "error",
     "traceback": [
      "\u001b[1;31m---------------------------------------------------------------------------\u001b[0m",
      "\u001b[1;31mNameError\u001b[0m                                 Traceback (most recent call last)",
      "\u001b[1;32m~\\AppData\\Local\\Temp\\ipykernel_12732\\2116563580.py\u001b[0m in \u001b[0;36m<module>\u001b[1;34m\u001b[0m\n\u001b[1;32m----> 1\u001b[1;33m \u001b[0msalarios\u001b[0m\u001b[1;33m.\u001b[0m\u001b[0msort\u001b[0m\u001b[1;33m(\u001b[0m\u001b[1;33m)\u001b[0m\u001b[1;33m\u001b[0m\u001b[1;33m\u001b[0m\u001b[0m\n\u001b[0m",
      "\u001b[1;31mNameError\u001b[0m: name 'salarios' is not defined"
     ]
    }
   ],
   "source": [
    "salarios.sort()"
   ]
  },
  {
   "cell_type": "code",
   "execution_count": 30,
   "id": "a4a349e5",
   "metadata": {},
   "outputs": [
    {
     "data": {
      "text/plain": [
       "[947.66, 2500, 3580, 6825, 15654]"
      ]
     },
     "execution_count": 30,
     "metadata": {},
     "output_type": "execute_result"
    }
   ],
   "source": [
    "salarios"
   ]
  },
  {
   "cell_type": "code",
   "execution_count": 5,
   "id": "03617fba",
   "metadata": {},
   "outputs": [],
   "source": [
    "produtos.sort(key = lambda item:item[1])"
   ]
  },
  {
   "cell_type": "code",
   "execution_count": 63,
   "id": "dffdc658",
   "metadata": {},
   "outputs": [
    {
     "data": {
      "text/plain": [
       "[['P4', 5],\n",
       " ['P6', 55],\n",
       " ['P5', 125],\n",
       " ['P8', 125],\n",
       " ['P1', 254],\n",
       " ['P10', 585],\n",
       " ['P7', 895],\n",
       " ['P3', 985],\n",
       " ['P9', 1145]]"
      ]
     },
     "execution_count": 63,
     "metadata": {},
     "output_type": "execute_result"
    }
   ],
   "source": [
    "produtos"
   ]
  },
  {
   "cell_type": "code",
   "execution_count": 4,
   "id": "19816f67",
   "metadata": {},
   "outputs": [
    {
     "data": {
      "text/plain": [
       "[['P9', 1145],\n",
       " ['P3', 985],\n",
       " ['P7', 895],\n",
       " ['P10', 585],\n",
       " ['P1', 254],\n",
       " ['P5', 125],\n",
       " ['P8', 125],\n",
       " ['P6', 55],\n",
       " ['P4', 5]]"
      ]
     },
     "execution_count": 4,
     "metadata": {},
     "output_type": "execute_result"
    }
   ],
   "source": [
    "# usando o metodo sorted\n",
    "sorted(produtos, key = lambda item:item[1],reverse = True)"
   ]
  },
  {
   "cell_type": "code",
   "execution_count": 32,
   "id": "6ff67e1b",
   "metadata": {},
   "outputs": [
    {
     "data": {
      "text/plain": [
       "2500"
      ]
     },
     "execution_count": 32,
     "metadata": {},
     "output_type": "execute_result"
    }
   ],
   "source": [
    "salarios[1]"
   ]
  },
  {
   "cell_type": "code",
   "execution_count": 34,
   "id": "a36d5ecf",
   "metadata": {},
   "outputs": [
    {
     "data": {
      "text/plain": [
       "55"
      ]
     },
     "execution_count": 34,
     "metadata": {},
     "output_type": "execute_result"
    }
   ],
   "source": [
    "produtos[1][1]"
   ]
  },
  {
   "cell_type": "code",
   "execution_count": null,
   "id": "9bd5b616",
   "metadata": {},
   "outputs": [],
   "source": []
  }
 ],
 "metadata": {
  "kernelspec": {
   "display_name": "Python 3 (ipykernel)",
   "language": "python",
   "name": "python3"
  },
  "language_info": {
   "codemirror_mode": {
    "name": "ipython",
    "version": 3
   },
   "file_extension": ".py",
   "mimetype": "text/x-python",
   "name": "python",
   "nbconvert_exporter": "python",
   "pygments_lexer": "ipython3",
   "version": "3.9.13"
  }
 },
 "nbformat": 4,
 "nbformat_minor": 5
}
