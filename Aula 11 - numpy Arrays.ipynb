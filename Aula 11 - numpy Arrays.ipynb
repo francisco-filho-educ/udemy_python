{
 "cells": [
  {
   "cell_type": "code",
   "execution_count": 2,
   "id": "e42b769b",
   "metadata": {},
   "outputs": [],
   "source": [
    "import numpy as np "
   ]
  },
  {
   "cell_type": "markdown",
   "id": "702cda9e",
   "metadata": {},
   "source": [
    "CRIAÇÃO DE VETORES ATRAVÉS DE LISTAS"
   ]
  },
  {
   "cell_type": "code",
   "execution_count": 3,
   "id": "13fbafbd",
   "metadata": {},
   "outputs": [],
   "source": [
    "qtd = [12,15,26,24]\n",
    "valor = [25,56,69,39]"
   ]
  },
  {
   "cell_type": "code",
   "execution_count": 4,
   "id": "0e27f7b0",
   "metadata": {},
   "outputs": [],
   "source": [
    "#qtd*valor  # as listas não permitem operações matemáticas entre elas\n",
    "qtd_ar = np.array(qtd)\n",
    "valor_ar = np.array(valor)"
   ]
  },
  {
   "cell_type": "code",
   "execution_count": 7,
   "id": "77d5c077",
   "metadata": {},
   "outputs": [],
   "source": [
    "#Ambas instrucoes \n",
    "#qtd*valor #retonrnam ERRO\n",
    "#qtd_ar*valor_ar\n"
   ]
  },
  {
   "cell_type": "code",
   "execution_count": 8,
   "id": "d70dbefe",
   "metadata": {},
   "outputs": [
    {
     "data": {
      "text/plain": [
       "array([ 1.,  3.,  5.,  7.,  9., 11., 13., 15., 17., 19.])"
      ]
     },
     "execution_count": 8,
     "metadata": {},
     "output_type": "execute_result"
    }
   ],
   "source": [
    "#funções de criações de arrays: arrage():\n",
    "#np.arange(1,10) # cria um array de 1 a 10\n",
    "#np.arange(1,20,2) # cria um array de 1 a 20 com passe ou incremento 2, (1,3,5...)\n",
    "np.arange(1,20,2,dtype = float) # cria um array de 1 a 20 com passe ou incremento 2, (1,3,5...19) de tipos float"
   ]
  },
  {
   "cell_type": "code",
   "execution_count": 9,
   "id": "84cd3f28",
   "metadata": {},
   "outputs": [
    {
     "data": {
      "text/plain": [
       "array([ 1.,  4.,  7., 10.])"
      ]
     },
     "execution_count": 9,
     "metadata": {},
     "output_type": "execute_result"
    }
   ],
   "source": [
    "#funções de criações de arrays: linspace(): retorna números espaçados de modo uniforme em um intervalo\n",
    "#linspace(ponto de partida, ponto de parada, qtd de valores)\n",
    "#np.linspace(1,10,10) # 1 será o intervalo\n",
    "np.linspace(1,10,4) "
   ]
  },
  {
   "cell_type": "code",
   "execution_count": 9,
   "id": "0f0cac39",
   "metadata": {},
   "outputs": [
    {
     "data": {
      "text/plain": [
       "array([0.        , 0.01010101, 0.02020202, 0.03030303, 0.04040404,\n",
       "       0.05050505, 0.06060606, 0.07070707, 0.08080808, 0.09090909,\n",
       "       0.1010101 , 0.11111111, 0.12121212, 0.13131313, 0.14141414,\n",
       "       0.15151515, 0.16161616, 0.17171717, 0.18181818, 0.19191919,\n",
       "       0.2020202 , 0.21212121, 0.22222222, 0.23232323, 0.24242424,\n",
       "       0.25252525, 0.26262626, 0.27272727, 0.28282828, 0.29292929,\n",
       "       0.3030303 , 0.31313131, 0.32323232, 0.33333333, 0.34343434,\n",
       "       0.35353535, 0.36363636, 0.37373737, 0.38383838, 0.39393939,\n",
       "       0.4040404 , 0.41414141, 0.42424242, 0.43434343, 0.44444444,\n",
       "       0.45454545, 0.46464646, 0.47474747, 0.48484848, 0.49494949,\n",
       "       0.50505051, 0.51515152, 0.52525253, 0.53535354, 0.54545455,\n",
       "       0.55555556, 0.56565657, 0.57575758, 0.58585859, 0.5959596 ,\n",
       "       0.60606061, 0.61616162, 0.62626263, 0.63636364, 0.64646465,\n",
       "       0.65656566, 0.66666667, 0.67676768, 0.68686869, 0.6969697 ,\n",
       "       0.70707071, 0.71717172, 0.72727273, 0.73737374, 0.74747475,\n",
       "       0.75757576, 0.76767677, 0.77777778, 0.78787879, 0.7979798 ,\n",
       "       0.80808081, 0.81818182, 0.82828283, 0.83838384, 0.84848485,\n",
       "       0.85858586, 0.86868687, 0.87878788, 0.88888889, 0.8989899 ,\n",
       "       0.90909091, 0.91919192, 0.92929293, 0.93939394, 0.94949495,\n",
       "       0.95959596, 0.96969697, 0.97979798, 0.98989899, 1.        ])"
      ]
     },
     "execution_count": 9,
     "metadata": {},
     "output_type": "execute_result"
    }
   ],
   "source": [
    "np.linspace(0,1,100)"
   ]
  },
  {
   "cell_type": "markdown",
   "id": "271814d5",
   "metadata": {},
   "source": [
    "Pacote Random:"
   ]
  },
  {
   "cell_type": "code",
   "execution_count": 10,
   "id": "c4df7d93",
   "metadata": {},
   "outputs": [
    {
     "data": {
      "text/plain": [
       "array([0.61627995, 0.0219192 , 0.16225086, 0.22508282, 0.04578955,\n",
       "       0.63482783, 0.28972458, 0.42350591, 0.7482001 , 0.67231214])"
      ]
     },
     "execution_count": 10,
     "metadata": {},
     "output_type": "execute_result"
    }
   ],
   "source": [
    "#função rand(tamanho)  - cria um array de números aleatórios de 0 a 1 -- tecla shift + tab \n",
    "np.random.rand(10)"
   ]
  },
  {
   "cell_type": "code",
   "execution_count": 14,
   "id": "78a2a5ec",
   "metadata": {},
   "outputs": [
    {
     "data": {
      "text/plain": [
       "array([ 0.93822218,  0.81669992, -0.09837224, -0.48326911,  0.1935133 ,\n",
       "       -0.18761328,  0.18580762,  1.64083609,  0.55700018, -1.17264886])"
      ]
     },
     "execution_count": 14,
     "metadata": {},
     "output_type": "execute_result"
    }
   ],
   "source": [
    "#função randn(tamanho) - cria um array de números de uma normal  de 0 a 1\n",
    "np.random.randn(10)"
   ]
  },
  {
   "cell_type": "code",
   "execution_count": 11,
   "id": "9a5a00a5",
   "metadata": {},
   "outputs": [
    {
     "data": {
      "text/plain": [
       "0"
      ]
     },
     "execution_count": 11,
     "metadata": {},
     "output_type": "execute_result"
    }
   ],
   "source": [
    "#função randint()\n",
    "np.random.randint(11) # retorna um número aleatório de 0 a 10"
   ]
  },
  {
   "cell_type": "code",
   "execution_count": 13,
   "id": "7625e23f",
   "metadata": {},
   "outputs": [
    {
     "data": {
      "text/plain": [
       "array([18, 50, 99, 10,  5, 93, 44, 63, 59, 37])"
      ]
     },
     "execution_count": 13,
     "metadata": {},
     "output_type": "execute_result"
    }
   ],
   "source": [
    "np.random.randint(0,100, size = 10) # retorna 10 números aleatórios de 0 a 99"
   ]
  },
  {
   "cell_type": "code",
   "execution_count": null,
   "id": "e795b2b5",
   "metadata": {},
   "outputs": [],
   "source": []
  }
 ],
 "metadata": {
  "kernelspec": {
   "display_name": "Python 3 (ipykernel)",
   "language": "python",
   "name": "python3"
  },
  "language_info": {
   "codemirror_mode": {
    "name": "ipython",
    "version": 3
   },
   "file_extension": ".py",
   "mimetype": "text/x-python",
   "name": "python",
   "nbconvert_exporter": "python",
   "pygments_lexer": "ipython3",
   "version": "3.9.13"
  }
 },
 "nbformat": 4,
 "nbformat_minor": 5
}
