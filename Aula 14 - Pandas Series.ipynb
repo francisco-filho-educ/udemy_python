{
 "cells": [
  {
   "cell_type": "code",
   "execution_count": 2,
   "id": "e01c0359",
   "metadata": {},
   "outputs": [],
   "source": [
    "import pandas as pd\n",
    "import numpy as np"
   ]
  },
  {
   "cell_type": "code",
   "execution_count": 5,
   "id": "ec70a6c4",
   "metadata": {},
   "outputs": [
    {
     "data": {
      "text/plain": [
       "0     1\n",
       "1     2\n",
       "2    68\n",
       "3    66\n",
       "4     -\n",
       "dtype: object"
      ]
     },
     "execution_count": 5,
     "metadata": {},
     "output_type": "execute_result"
    }
   ],
   "source": [
    "#Série é um array nomeado e unidimensional\n",
    "# Pode ser criado através de:\n",
    "#listas\n",
    "lista = [1,2,68,66,'-']\n",
    "pd.Series(lista)"
   ]
  },
  {
   "cell_type": "code",
   "execution_count": 9,
   "id": "4ac6913c",
   "metadata": {},
   "outputs": [
    {
     "data": {
      "text/plain": [
       "0     1\n",
       "1     6\n",
       "2    84\n",
       "3     0\n",
       "dtype: int32"
      ]
     },
     "execution_count": 9,
     "metadata": {},
     "output_type": "execute_result"
    }
   ],
   "source": [
    "#Arrays\n",
    "arr = np.array([1,6,84,0])\n",
    "pd.Series(arr)"
   ]
  },
  {
   "cell_type": "code",
   "execution_count": 14,
   "id": "28fe042b",
   "metadata": {},
   "outputs": [
    {
     "data": {
      "text/plain": [
       "Nome     Lucas\n",
       "Idade       32\n",
       "Sexo         M\n",
       "dtype: object"
      ]
     },
     "execution_count": 14,
     "metadata": {},
     "output_type": "execute_result"
    }
   ],
   "source": [
    "#Dicionarios\n",
    "dicionario = {'Nome':'Lucas','Idade':32,'Sexo':'M'}\n",
    "pd.Series(dicionario)"
   ]
  },
  {
   "cell_type": "code",
   "execution_count": 46,
   "id": "7c85dce1",
   "metadata": {},
   "outputs": [],
   "source": [
    "# personalizando o index\n",
    "serie_1 = pd.Series([85,75,63,55,77],index=['A','B','C','D','E'])\n",
    "#outra forma\n",
    "labels =['A','B','C','D','E','F','G']\n",
    "dados = [18,8,23,15,21,37,9]\n",
    "serie_2 = pd.Series(data= dados,index=labels)"
   ]
  },
  {
   "cell_type": "code",
   "execution_count": 26,
   "id": "41cea051",
   "metadata": {
    "scrolled": true
   },
   "outputs": [
    {
     "data": {
      "text/plain": [
       "A    67.0\n",
       "B    67.0\n",
       "C    40.0\n",
       "D    40.0\n",
       "E    56.0\n",
       "F     NaN\n",
       "G     NaN\n",
       "dtype: float64"
      ]
     },
     "execution_count": 26,
     "metadata": {},
     "output_type": "execute_result"
    }
   ],
   "source": [
    "#Operações entre series:\n",
    "#serie_2 + serie_1 # os indexadores 'F' e 'G' aparecerão valores nulos equanto os demais serão somados\n",
    "serie_1 - serie_2 # os indexadores 'F' e 'G' aparecerão valores nulos equanto os demais serão subtraídos"
   ]
  },
  {
   "cell_type": "code",
   "execution_count": 32,
   "id": "aa5dd5dd",
   "metadata": {},
   "outputs": [
    {
     "data": {
      "text/plain": [
       "55"
      ]
     },
     "execution_count": 32,
     "metadata": {},
     "output_type": "execute_result"
    }
   ],
   "source": [
    "#Acessando valores individuais:\n",
    "#serie_1[3] # utilizando o índice\n",
    "serie_1['D'] # utilizando a chave"
   ]
  },
  {
   "cell_type": "code",
   "execution_count": 91,
   "id": "cb839e0b",
   "metadata": {},
   "outputs": [
    {
     "data": {
      "text/plain": [
       "count       5.0\n",
       "mean       71.0\n",
       "median     75.0\n",
       "sum       355.0\n",
       "dtype: float64"
      ]
     },
     "execution_count": 91,
     "metadata": {},
     "output_type": "execute_result"
    }
   ],
   "source": [
    "## Algumas funções:\n",
    "serie_3 = pd.Series(['A','C','H','N','S','A','N','Y','C','H','N'])\n",
    "##Unique: Retorna uma lista de valores únicos:\n",
    "#serie_3.unique()\n",
    "\n",
    "##Unique: Retorna uma lista de valores únicos:\n",
    "#serie_3.nunique()\n",
    "\n",
    "##nlargest(n): retorna as linhas ordenadas com os maiores valores, o parametro (n) indica a quantidade de linhas, o padrão é 5\n",
    "#serie_2.nlargest(3)\n",
    "\n",
    "##nsmallest(n): retorna as linhas com os menores valores, o parametro (n) indica a quantidade de linhas\n",
    "#serie_2.nsmallest(1)\n",
    "\n",
    "#serie_3.count() # retorna o número de elementos não nulos da serie\n",
    "#serie_3.value_counts() # retorna o número de ocorrências de cada valor na serie\n",
    "\n",
    "##isna(): retorna um array com valores booleanos onde True para nuloes e False para não nulos \n",
    "#serie_4 = pd.Series([np.nan,2,6,8,np.nan,8, 9,np.nan,np.nan])\n",
    "#serie_4.isna()\n",
    "#serie_4.isna().sum() # retorna a quantidade de valores nulos na série\n",
    "\n",
    "## eq(): compara series e data.frame retornando uma serie de True,quando coincidir, e False quando não\n",
    "serie_1.eq(15) # compara cada elemento da série com  o valor indicado no parametro\n",
    "serie_1.eq([85,75,63,55,77]) # compara os elemento da série de acordo com os índices de cada um\n",
    "\n",
    "## gt(): o oposto do eq retorna uma serie de False,quando coincidir, e True quando não\n",
    "serie_1.gt([85,75,63,55,77])\n",
    "\n",
    "\n",
    "##Operações de agregação:\n",
    "serie_1.mean() # retorna a média geral da serie\n",
    "##agg([lista de funções]) # retorna uma série com os resultados das funções listadas\n",
    "serie_1.agg(['count','mean','median', 'sum'])"
   ]
  },
  {
   "cell_type": "code",
   "execution_count": null,
   "id": "222d7105",
   "metadata": {},
   "outputs": [],
   "source": [
    "\n"
   ]
  }
 ],
 "metadata": {
  "kernelspec": {
   "display_name": "Python 3 (ipykernel)",
   "language": "python",
   "name": "python3"
  },
  "language_info": {
   "codemirror_mode": {
    "name": "ipython",
    "version": 3
   },
   "file_extension": ".py",
   "mimetype": "text/x-python",
   "name": "python",
   "nbconvert_exporter": "python",
   "pygments_lexer": "ipython3",
   "version": "3.9.13"
  }
 },
 "nbformat": 4,
 "nbformat_minor": 5
}
