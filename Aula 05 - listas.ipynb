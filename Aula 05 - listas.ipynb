{
 "cells": [
  {
   "cell_type": "code",
   "execution_count": 13,
   "id": "6f2521c6",
   "metadata": {},
   "outputs": [],
   "source": [
    "#Listas:\n",
    "letras = ['A','B','C','D','E','F','G','H','I','J','K','L','M']\n",
    "# o primeiro indece é 0 o último é número de elementos subtraindo 1 (no caso 10 elementos, o 'J' é 9)"
   ]
  },
  {
   "cell_type": "markdown",
   "id": "b1e5b319",
   "metadata": {},
   "source": [
    "Acessando o elememtos através dos índices"
   ]
  },
  {
   "cell_type": "code",
   "execution_count": 4,
   "id": "176e2707",
   "metadata": {},
   "outputs": [
    {
     "data": {
      "text/plain": [
       "'B'"
      ]
     },
     "execution_count": 4,
     "metadata": {},
     "output_type": "execute_result"
    }
   ],
   "source": [
    "letras[1] # retorna o 2º elemento (\"B\")"
   ]
  },
  {
   "cell_type": "code",
   "execution_count": 7,
   "id": "6612ce2d",
   "metadata": {},
   "outputs": [
    {
     "data": {
      "text/plain": [
       "['A', 'B', 'C', 'D', 'E', 'F', 'G', 'H', 'I', 'J', 'L', 'K', 'L']"
      ]
     },
     "execution_count": 7,
     "metadata": {},
     "output_type": "execute_result"
    }
   ],
   "source": [
    "letras[:] # retorna todos os elementos"
   ]
  },
  {
   "cell_type": "code",
   "execution_count": 8,
   "id": "4d8a2064",
   "metadata": {},
   "outputs": [
    {
     "data": {
      "text/plain": [
       "['D', 'E', 'F', 'G', 'H', 'I', 'J', 'L', 'K', 'L']"
      ]
     },
     "execution_count": 8,
     "metadata": {},
     "output_type": "execute_result"
    }
   ],
   "source": [
    "letras[3:] # retorna todos da lista a apartir do 4º elemento (indices 3 a 9)"
   ]
  },
  {
   "cell_type": "code",
   "execution_count": 9,
   "id": "db9f66e2",
   "metadata": {},
   "outputs": [
    {
     "data": {
      "text/plain": [
       "['A', 'B', 'C', 'D', 'E']"
      ]
     },
     "execution_count": 9,
     "metadata": {},
     "output_type": "execute_result"
    }
   ],
   "source": [
    "letras[:5] # retorna a lista do 1º até o 5° elemento (indices 0 a 4) obs: o indice 5 não entra na lista"
   ]
  },
  {
   "cell_type": "code",
   "execution_count": 11,
   "id": "9c44178a",
   "metadata": {},
   "outputs": [
    {
     "data": {
      "text/plain": [
       "['D', 'E', 'F', 'G', 'H']"
      ]
     },
     "execution_count": 11,
     "metadata": {},
     "output_type": "execute_result"
    }
   ],
   "source": [
    "letras[3:8] # retorna a lista do 4º até o 8° elemento (indices 3 a 7) obs: o indices 3 e 8 não entra na lista"
   ]
  },
  {
   "cell_type": "code",
   "execution_count": 18,
   "id": "824d9363",
   "metadata": {},
   "outputs": [
    {
     "data": {
      "text/plain": [
       "'K'"
      ]
     },
     "execution_count": 18,
     "metadata": {},
     "output_type": "execute_result"
    }
   ],
   "source": [
    "letras[-3] # Retorna 3º elemento da direita para a esquerda. Obs: letras[3] retorna o 4º elemento"
   ]
  },
  {
   "cell_type": "code",
   "execution_count": 22,
   "id": "4f4f27f5",
   "metadata": {},
   "outputs": [
    {
     "data": {
      "text/plain": [
       "['A', 'D', 'G', 'J', 'M']"
      ]
     },
     "execution_count": 22,
     "metadata": {},
     "output_type": "execute_result"
    }
   ],
   "source": [
    "# lista com passo\n",
    "#letras[::1] # passe = 1 vai retornar a lista completa\n",
    "letras[::2] # passe = 2 vai retornar a lista com os indice (0,2,4,6,8)\n",
    "# ista é uma sequencia onde o valor do passe é somado ao valor do indice "
   ]
  },
  {
   "cell_type": "code",
   "execution_count": 24,
   "id": "badd2d35",
   "metadata": {},
   "outputs": [],
   "source": [
    "#concatenação de listas\n",
    "numeros = [1,2,3,4,5]"
   ]
  },
  {
   "cell_type": "code",
   "execution_count": 27,
   "id": "94a50f35",
   "metadata": {},
   "outputs": [],
   "source": [
    "lista_total = letras+numeros"
   ]
  },
  {
   "cell_type": "code",
   "execution_count": 28,
   "id": "929705c1",
   "metadata": {},
   "outputs": [
    {
     "data": {
      "text/plain": [
       "['A',\n",
       " 'B',\n",
       " 'C',\n",
       " 'D',\n",
       " 'E',\n",
       " 'F',\n",
       " 'G',\n",
       " 'H',\n",
       " 'I',\n",
       " 'J',\n",
       " 'K',\n",
       " 'L',\n",
       " 'M',\n",
       " 1,\n",
       " 2,\n",
       " 3,\n",
       " 4,\n",
       " 5]"
      ]
     },
     "execution_count": 28,
     "metadata": {},
     "output_type": "execute_result"
    }
   ],
   "source": [
    "lista_total"
   ]
  },
  {
   "cell_type": "code",
   "execution_count": 29,
   "id": "62db68d0",
   "metadata": {},
   "outputs": [],
   "source": [
    "#Lista dentro de listas:\n",
    "lista_composta = [-1,-2,['a','b','c',letras],numeros]"
   ]
  },
  {
   "cell_type": "code",
   "execution_count": 27,
   "id": "5f120643",
   "metadata": {},
   "outputs": [
    {
     "data": {
      "text/plain": [
       "-2"
      ]
     },
     "execution_count": 27,
     "metadata": {},
     "output_type": "execute_result"
    }
   ],
   "source": [
    "lista_composta[0] # retorna o 1º elemento"
   ]
  },
  {
   "cell_type": "code",
   "execution_count": 28,
   "id": "14734be0",
   "metadata": {},
   "outputs": [
    {
     "data": {
      "text/plain": [
       "[1, 2, 3, 4, 5]"
      ]
     },
     "execution_count": 28,
     "metadata": {},
     "output_type": "execute_result"
    }
   ],
   "source": [
    "lista_composta[3] # retorna o 4º elemento, no caso a lista numeros"
   ]
  },
  {
   "cell_type": "code",
   "execution_count": 29,
   "id": "6fbc38ba",
   "metadata": {},
   "outputs": [
    {
     "data": {
      "text/plain": [
       "3"
      ]
     },
     "execution_count": 29,
     "metadata": {},
     "output_type": "execute_result"
    }
   ],
   "source": [
    "lista_composta[3][2] # retorna o 3º elemento da lista numeros"
   ]
  },
  {
   "cell_type": "code",
   "execution_count": 30,
   "id": "a1718d17",
   "metadata": {},
   "outputs": [
    {
     "data": {
      "text/plain": [
       "['a',\n",
       " 'b',\n",
       " 'c',\n",
       " ['A', 'B', 'C', 'D', 'E', 'F', 'G', 'H', 'I', 'J', 'K', 'L', 'M']]"
      ]
     },
     "execution_count": 30,
     "metadata": {},
     "output_type": "execute_result"
    }
   ],
   "source": [
    "lista_composta[2] # retorna o 2º elemento, no caso uma lista composta"
   ]
  },
  {
   "cell_type": "code",
   "execution_count": 31,
   "id": "d21ed088",
   "metadata": {},
   "outputs": [
    {
     "data": {
      "text/plain": [
       "'E'"
      ]
     },
     "execution_count": 31,
     "metadata": {},
     "output_type": "execute_result"
    }
   ],
   "source": [
    "lista_composta[2][3][4] # retonar o 4º elemento da lista letras"
   ]
  },
  {
   "cell_type": "markdown",
   "id": "ee237746",
   "metadata": {},
   "source": [
    "Alterar listas"
   ]
  },
  {
   "cell_type": "code",
   "execution_count": 31,
   "id": "b4796b83",
   "metadata": {},
   "outputs": [],
   "source": [
    "numeros[0] = -1 # acessa o índice e atribui o novo valor"
   ]
  },
  {
   "cell_type": "code",
   "execution_count": 34,
   "id": "877d004c",
   "metadata": {},
   "outputs": [
    {
     "data": {
      "text/plain": [
       "[-1, 2, 3, 4, 5]"
      ]
     },
     "execution_count": 34,
     "metadata": {},
     "output_type": "execute_result"
    }
   ],
   "source": [
    "numeros"
   ]
  },
  {
   "cell_type": "code",
   "execution_count": 32,
   "id": "a095fce6",
   "metadata": {},
   "outputs": [],
   "source": [
    "letras[:] = ['a','b','c','d','e','f','g','h','i','j'] # atribui novos valores a todos os elementos"
   ]
  },
  {
   "cell_type": "code",
   "execution_count": 38,
   "id": "79efeb79",
   "metadata": {},
   "outputs": [],
   "source": [
    "#Inserindo valores:\n",
    "letras.append('k') # insere 'k' no final da lista "
   ]
  },
  {
   "cell_type": "code",
   "execution_count": 40,
   "id": "d888d704",
   "metadata": {},
   "outputs": [],
   "source": [
    "del(letras[10])"
   ]
  },
  {
   "cell_type": "code",
   "execution_count": 41,
   "id": "fcb09a41",
   "metadata": {},
   "outputs": [
    {
     "data": {
      "text/plain": [
       "['a', 'b', 'c', 'd', 'e', 'f', 'g', 'h', 'i', 'j']"
      ]
     },
     "execution_count": 41,
     "metadata": {},
     "output_type": "execute_result"
    }
   ],
   "source": [
    "letras"
   ]
  },
  {
   "cell_type": "code",
   "execution_count": 42,
   "id": "bc6d2691",
   "metadata": {},
   "outputs": [
    {
     "data": {
      "text/plain": [
       "['a', 'b', 'c', 'd', 'e', 'f', 'g', 'h', 'i', 'j']"
      ]
     },
     "execution_count": 42,
     "metadata": {},
     "output_type": "execute_result"
    }
   ],
   "source": [
    "letras"
   ]
  },
  {
   "cell_type": "code",
   "execution_count": null,
   "id": "6cb82329",
   "metadata": {},
   "outputs": [],
   "source": []
  }
 ],
 "metadata": {
  "kernelspec": {
   "display_name": "Python 3 (ipykernel)",
   "language": "python",
   "name": "python3"
  },
  "language_info": {
   "codemirror_mode": {
    "name": "ipython",
    "version": 3
   },
   "file_extension": ".py",
   "mimetype": "text/x-python",
   "name": "python",
   "nbconvert_exporter": "python",
   "pygments_lexer": "ipython3",
   "version": "3.9.13"
  }
 },
 "nbformat": 4,
 "nbformat_minor": 5
}
