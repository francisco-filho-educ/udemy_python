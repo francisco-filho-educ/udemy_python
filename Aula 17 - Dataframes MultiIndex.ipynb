{
 "cells": [
  {
   "cell_type": "code",
   "execution_count": 1,
   "id": "c3f67d46",
   "metadata": {},
   "outputs": [],
   "source": [
    "import pandas as pd\n",
    "import numpy as np"
   ]
  },
  {
   "cell_type": "code",
   "execution_count": 32,
   "id": "f56e8af6",
   "metadata": {},
   "outputs": [
    {
     "data": {
      "text/plain": [
       "[['BRASIL',\n",
       "  'BRASIL',\n",
       "  'BRASIL',\n",
       "  'ARGENTINA',\n",
       "  'ARGENTINA',\n",
       "  'ARGENTINA',\n",
       "  'URUGUAI',\n",
       "  'URUGUAI',\n",
       "  'URUGUAI'],\n",
       " [2021, 2022, 2023, 2021, 2022, 2023, 2021, 2022, 2023]]"
      ]
     },
     "execution_count": 32,
     "metadata": {},
     "output_type": "execute_result"
    }
   ],
   "source": [
    "lista = [['BRASIL','BRASIL','BRASIL','ARGENTINA','ARGENTINA','ARGENTINA','URUGUAI','URUGUAI','URUGUAI'],[2021,2022,2023,2021,2022,2023,2021,2022,2023]]\n",
    "lista"
   ]
  },
  {
   "cell_type": "code",
   "execution_count": 33,
   "id": "def98183",
   "metadata": {},
   "outputs": [
    {
     "data": {
      "text/plain": [
       "<zip at 0x2d95877efc0>"
      ]
     },
     "execution_count": 33,
     "metadata": {},
     "output_type": "execute_result"
    }
   ],
   "source": [
    "tupla = zip(*lista)\n",
    "tupla"
   ]
  },
  {
   "cell_type": "code",
   "execution_count": 34,
   "id": "ab7a6aef",
   "metadata": {
    "scrolled": true
   },
   "outputs": [
    {
     "data": {
      "text/plain": [
       "[('BRASIL', 2021),\n",
       " ('BRASIL', 2022),\n",
       " ('BRASIL', 2023),\n",
       " ('ARGENTINA', 2021),\n",
       " ('ARGENTINA', 2022),\n",
       " ('ARGENTINA', 2023),\n",
       " ('URUGUAI', 2021),\n",
       " ('URUGUAI', 2022),\n",
       " ('URUGUAI', 2023)]"
      ]
     },
     "execution_count": 34,
     "metadata": {},
     "output_type": "execute_result"
    }
   ],
   "source": [
    "tupla = list(tupla)\n",
    "tupla"
   ]
  },
  {
   "cell_type": "code",
   "execution_count": 35,
   "id": "1ea0aef6",
   "metadata": {},
   "outputs": [
    {
     "data": {
      "text/plain": [
       "MultiIndex([(   'BRASIL', 2021),\n",
       "            (   'BRASIL', 2022),\n",
       "            (   'BRASIL', 2023),\n",
       "            ('ARGENTINA', 2021),\n",
       "            ('ARGENTINA', 2022),\n",
       "            ('ARGENTINA', 2023),\n",
       "            (  'URUGUAI', 2021),\n",
       "            (  'URUGUAI', 2022),\n",
       "            (  'URUGUAI', 2023)],\n",
       "           )"
      ]
     },
     "execution_count": 35,
     "metadata": {},
     "output_type": "execute_result"
    }
   ],
   "source": [
    "mult=pd.MultiIndex.from_tuples(tupla) # gera os indexes mult\n",
    "mult"
   ]
  },
  {
   "cell_type": "code",
   "execution_count": 38,
   "id": "754df892",
   "metadata": {
    "scrolled": true
   },
   "outputs": [
    {
     "data": {
      "text/html": [
       "<div>\n",
       "<style scoped>\n",
       "    .dataframe tbody tr th:only-of-type {\n",
       "        vertical-align: middle;\n",
       "    }\n",
       "\n",
       "    .dataframe tbody tr th {\n",
       "        vertical-align: top;\n",
       "    }\n",
       "\n",
       "    .dataframe thead th {\n",
       "        text-align: right;\n",
       "    }\n",
       "</style>\n",
       "<table border=\"1\" class=\"dataframe\">\n",
       "  <thead>\n",
       "    <tr style=\"text-align: right;\">\n",
       "      <th></th>\n",
       "      <th></th>\n",
       "      <th>EXP TRIGO</th>\n",
       "      <th>EXP ARROZ</th>\n",
       "    </tr>\n",
       "  </thead>\n",
       "  <tbody>\n",
       "    <tr>\n",
       "      <th rowspan=\"3\" valign=\"top\">BRASIL</th>\n",
       "      <th>2021</th>\n",
       "      <td>0.623558</td>\n",
       "      <td>1.276983</td>\n",
       "    </tr>\n",
       "    <tr>\n",
       "      <th>2022</th>\n",
       "      <td>0.715581</td>\n",
       "      <td>0.646917</td>\n",
       "    </tr>\n",
       "    <tr>\n",
       "      <th>2023</th>\n",
       "      <td>0.375865</td>\n",
       "      <td>1.446610</td>\n",
       "    </tr>\n",
       "    <tr>\n",
       "      <th rowspan=\"3\" valign=\"top\">ARGENTINA</th>\n",
       "      <th>2021</th>\n",
       "      <td>-1.262729</td>\n",
       "      <td>-0.532829</td>\n",
       "    </tr>\n",
       "    <tr>\n",
       "      <th>2022</th>\n",
       "      <td>-0.222613</td>\n",
       "      <td>0.440285</td>\n",
       "    </tr>\n",
       "    <tr>\n",
       "      <th>2023</th>\n",
       "      <td>-1.371232</td>\n",
       "      <td>-0.568886</td>\n",
       "    </tr>\n",
       "    <tr>\n",
       "      <th rowspan=\"3\" valign=\"top\">URUGUAI</th>\n",
       "      <th>2021</th>\n",
       "      <td>0.785903</td>\n",
       "      <td>-0.351723</td>\n",
       "    </tr>\n",
       "    <tr>\n",
       "      <th>2022</th>\n",
       "      <td>-0.449967</td>\n",
       "      <td>0.271277</td>\n",
       "    </tr>\n",
       "    <tr>\n",
       "      <th>2023</th>\n",
       "      <td>0.283529</td>\n",
       "      <td>-0.375132</td>\n",
       "    </tr>\n",
       "  </tbody>\n",
       "</table>\n",
       "</div>"
      ],
      "text/plain": [
       "                EXP TRIGO  EXP ARROZ\n",
       "BRASIL    2021   0.623558   1.276983\n",
       "          2022   0.715581   0.646917\n",
       "          2023   0.375865   1.446610\n",
       "ARGENTINA 2021  -1.262729  -0.532829\n",
       "          2022  -0.222613   0.440285\n",
       "          2023  -1.371232  -0.568886\n",
       "URUGUAI   2021   0.785903  -0.351723\n",
       "          2022  -0.449967   0.271277\n",
       "          2023   0.283529  -0.375132"
      ]
     },
     "execution_count": 38,
     "metadata": {},
     "output_type": "execute_result"
    }
   ],
   "source": [
    "df_mult = pd.DataFrame(data = np.random.randn(9,2),index = mult, columns = ['EXP TRIGO','EXP ARROZ'])\n",
    "df_mult"
   ]
  },
  {
   "cell_type": "code",
   "execution_count": 41,
   "id": "219c4b58",
   "metadata": {},
   "outputs": [
    {
     "data": {
      "text/html": [
       "<div>\n",
       "<style scoped>\n",
       "    .dataframe tbody tr th:only-of-type {\n",
       "        vertical-align: middle;\n",
       "    }\n",
       "\n",
       "    .dataframe tbody tr th {\n",
       "        vertical-align: top;\n",
       "    }\n",
       "\n",
       "    .dataframe thead th {\n",
       "        text-align: right;\n",
       "    }\n",
       "</style>\n",
       "<table border=\"1\" class=\"dataframe\">\n",
       "  <thead>\n",
       "    <tr style=\"text-align: right;\">\n",
       "      <th></th>\n",
       "      <th></th>\n",
       "      <th>EXP TRIGO</th>\n",
       "      <th>EXP ARROZ</th>\n",
       "    </tr>\n",
       "    <tr>\n",
       "      <th>PAIS</th>\n",
       "      <th>ANO</th>\n",
       "      <th></th>\n",
       "      <th></th>\n",
       "    </tr>\n",
       "  </thead>\n",
       "  <tbody>\n",
       "    <tr>\n",
       "      <th rowspan=\"3\" valign=\"top\">BRASIL</th>\n",
       "      <th>2021</th>\n",
       "      <td>0.623558</td>\n",
       "      <td>1.276983</td>\n",
       "    </tr>\n",
       "    <tr>\n",
       "      <th>2022</th>\n",
       "      <td>0.715581</td>\n",
       "      <td>0.646917</td>\n",
       "    </tr>\n",
       "    <tr>\n",
       "      <th>2023</th>\n",
       "      <td>0.375865</td>\n",
       "      <td>1.446610</td>\n",
       "    </tr>\n",
       "    <tr>\n",
       "      <th rowspan=\"3\" valign=\"top\">ARGENTINA</th>\n",
       "      <th>2021</th>\n",
       "      <td>-1.262729</td>\n",
       "      <td>-0.532829</td>\n",
       "    </tr>\n",
       "    <tr>\n",
       "      <th>2022</th>\n",
       "      <td>-0.222613</td>\n",
       "      <td>0.440285</td>\n",
       "    </tr>\n",
       "    <tr>\n",
       "      <th>2023</th>\n",
       "      <td>-1.371232</td>\n",
       "      <td>-0.568886</td>\n",
       "    </tr>\n",
       "    <tr>\n",
       "      <th rowspan=\"3\" valign=\"top\">URUGUAI</th>\n",
       "      <th>2021</th>\n",
       "      <td>0.785903</td>\n",
       "      <td>-0.351723</td>\n",
       "    </tr>\n",
       "    <tr>\n",
       "      <th>2022</th>\n",
       "      <td>-0.449967</td>\n",
       "      <td>0.271277</td>\n",
       "    </tr>\n",
       "    <tr>\n",
       "      <th>2023</th>\n",
       "      <td>0.283529</td>\n",
       "      <td>-0.375132</td>\n",
       "    </tr>\n",
       "  </tbody>\n",
       "</table>\n",
       "</div>"
      ],
      "text/plain": [
       "                EXP TRIGO  EXP ARROZ\n",
       "PAIS      ANO                       \n",
       "BRASIL    2021   0.623558   1.276983\n",
       "          2022   0.715581   0.646917\n",
       "          2023   0.375865   1.446610\n",
       "ARGENTINA 2021  -1.262729  -0.532829\n",
       "          2022  -0.222613   0.440285\n",
       "          2023  -1.371232  -0.568886\n",
       "URUGUAI   2021   0.785903  -0.351723\n",
       "          2022  -0.449967   0.271277\n",
       "          2023   0.283529  -0.375132"
      ]
     },
     "execution_count": 41,
     "metadata": {},
     "output_type": "execute_result"
    }
   ],
   "source": [
    "df_mult.index.names = ['PAIS','ANO']\n",
    "df_mult"
   ]
  },
  {
   "cell_type": "code",
   "execution_count": 43,
   "id": "59cc7ba4",
   "metadata": {},
   "outputs": [
    {
     "data": {
      "text/plain": [
       "PAIS       ANO \n",
       "BRASIL     2021    0.623558\n",
       "           2022    0.715581\n",
       "           2023    0.375865\n",
       "ARGENTINA  2021   -1.262729\n",
       "           2022   -0.222613\n",
       "           2023   -1.371232\n",
       "URUGUAI    2021    0.785903\n",
       "           2022   -0.449967\n",
       "           2023    0.283529\n",
       "Name: EXP TRIGO, dtype: float64"
      ]
     },
     "execution_count": 43,
     "metadata": {},
     "output_type": "execute_result"
    }
   ],
   "source": [
    "#Acessando os valores\n",
    "df_mult['EXP TRIGO'] # Seleciona as colunas (ANO e PAIS são índices, não são colunas )"
   ]
  },
  {
   "cell_type": "code",
   "execution_count": 62,
   "id": "b052e5d4",
   "metadata": {
    "scrolled": true
   },
   "outputs": [
    {
     "data": {
      "text/html": [
       "<div>\n",
       "<style scoped>\n",
       "    .dataframe tbody tr th:only-of-type {\n",
       "        vertical-align: middle;\n",
       "    }\n",
       "\n",
       "    .dataframe tbody tr th {\n",
       "        vertical-align: top;\n",
       "    }\n",
       "\n",
       "    .dataframe thead th {\n",
       "        text-align: right;\n",
       "    }\n",
       "</style>\n",
       "<table border=\"1\" class=\"dataframe\">\n",
       "  <thead>\n",
       "    <tr style=\"text-align: right;\">\n",
       "      <th></th>\n",
       "      <th>EXP TRIGO</th>\n",
       "      <th>EXP ARROZ</th>\n",
       "    </tr>\n",
       "    <tr>\n",
       "      <th>ANO</th>\n",
       "      <th></th>\n",
       "      <th></th>\n",
       "    </tr>\n",
       "  </thead>\n",
       "  <tbody>\n",
       "    <tr>\n",
       "      <th>2021</th>\n",
       "      <td>0.623558</td>\n",
       "      <td>1.276983</td>\n",
       "    </tr>\n",
       "    <tr>\n",
       "      <th>2022</th>\n",
       "      <td>0.715581</td>\n",
       "      <td>0.646917</td>\n",
       "    </tr>\n",
       "    <tr>\n",
       "      <th>2023</th>\n",
       "      <td>0.375865</td>\n",
       "      <td>1.446610</td>\n",
       "    </tr>\n",
       "  </tbody>\n",
       "</table>\n",
       "</div>"
      ],
      "text/plain": [
       "      EXP TRIGO  EXP ARROZ\n",
       "ANO                       \n",
       "2021   0.623558   1.276983\n",
       "2022   0.715581   0.646917\n",
       "2023   0.375865   1.446610"
      ]
     },
     "execution_count": 62,
     "metadata": {},
     "output_type": "execute_result"
    }
   ],
   "source": [
    "df_mult.loc['BRASIL'] # Seleciona a linha pelo nome"
   ]
  },
  {
   "cell_type": "code",
   "execution_count": 64,
   "id": "3d1cfc88",
   "metadata": {
    "scrolled": true
   },
   "outputs": [
    {
     "data": {
      "text/html": [
       "<div>\n",
       "<style scoped>\n",
       "    .dataframe tbody tr th:only-of-type {\n",
       "        vertical-align: middle;\n",
       "    }\n",
       "\n",
       "    .dataframe tbody tr th {\n",
       "        vertical-align: top;\n",
       "    }\n",
       "\n",
       "    .dataframe thead th {\n",
       "        text-align: right;\n",
       "    }\n",
       "</style>\n",
       "<table border=\"1\" class=\"dataframe\">\n",
       "  <thead>\n",
       "    <tr style=\"text-align: right;\">\n",
       "      <th></th>\n",
       "      <th>EXP TRIGO</th>\n",
       "      <th>EXP ARROZ</th>\n",
       "    </tr>\n",
       "    <tr>\n",
       "      <th>PAIS</th>\n",
       "      <th></th>\n",
       "      <th></th>\n",
       "    </tr>\n",
       "  </thead>\n",
       "  <tbody>\n",
       "    <tr>\n",
       "      <th>BRASIL</th>\n",
       "      <td>0.623558</td>\n",
       "      <td>1.276983</td>\n",
       "    </tr>\n",
       "    <tr>\n",
       "      <th>ARGENTINA</th>\n",
       "      <td>-1.262729</td>\n",
       "      <td>-0.532829</td>\n",
       "    </tr>\n",
       "    <tr>\n",
       "      <th>URUGUAI</th>\n",
       "      <td>0.785903</td>\n",
       "      <td>-0.351723</td>\n",
       "    </tr>\n",
       "  </tbody>\n",
       "</table>\n",
       "</div>"
      ],
      "text/plain": [
       "           EXP TRIGO  EXP ARROZ\n",
       "PAIS                           \n",
       "BRASIL      0.623558   1.276983\n",
       "ARGENTINA  -1.262729  -0.532829\n",
       "URUGUAI     0.785903  -0.351723"
      ]
     },
     "execution_count": 64,
     "metadata": {},
     "output_type": "execute_result"
    }
   ],
   "source": [
    "df_mult.xs(2021,level = 1) # para o ANO é preciso indicar o nível, no caso 1, para o PAIS é 0\n"
   ]
  },
  {
   "cell_type": "code",
   "execution_count": 65,
   "id": "69e9ad3b",
   "metadata": {
    "scrolled": true
   },
   "outputs": [
    {
     "data": {
      "text/html": [
       "<div>\n",
       "<style scoped>\n",
       "    .dataframe tbody tr th:only-of-type {\n",
       "        vertical-align: middle;\n",
       "    }\n",
       "\n",
       "    .dataframe tbody tr th {\n",
       "        vertical-align: top;\n",
       "    }\n",
       "\n",
       "    .dataframe thead th {\n",
       "        text-align: right;\n",
       "    }\n",
       "</style>\n",
       "<table border=\"1\" class=\"dataframe\">\n",
       "  <thead>\n",
       "    <tr style=\"text-align: right;\">\n",
       "      <th></th>\n",
       "      <th>EXP TRIGO</th>\n",
       "      <th>EXP ARROZ</th>\n",
       "    </tr>\n",
       "    <tr>\n",
       "      <th>ANO</th>\n",
       "      <th></th>\n",
       "      <th></th>\n",
       "    </tr>\n",
       "  </thead>\n",
       "  <tbody>\n",
       "    <tr>\n",
       "      <th>2021</th>\n",
       "      <td>0.623558</td>\n",
       "      <td>1.276983</td>\n",
       "    </tr>\n",
       "    <tr>\n",
       "      <th>2022</th>\n",
       "      <td>0.715581</td>\n",
       "      <td>0.646917</td>\n",
       "    </tr>\n",
       "    <tr>\n",
       "      <th>2023</th>\n",
       "      <td>0.375865</td>\n",
       "      <td>1.446610</td>\n",
       "    </tr>\n",
       "  </tbody>\n",
       "</table>\n",
       "</div>"
      ],
      "text/plain": [
       "      EXP TRIGO  EXP ARROZ\n",
       "ANO                       \n",
       "2021   0.623558   1.276983\n",
       "2022   0.715581   0.646917\n",
       "2023   0.375865   1.446610"
      ]
     },
     "execution_count": 65,
     "metadata": {},
     "output_type": "execute_result"
    }
   ],
   "source": [
    "df_mult.xs('BRASIL',level = 0) # Mesmo resultado que df_mult.loc['BRASIL'] b"
   ]
  },
  {
   "cell_type": "code",
   "execution_count": 78,
   "id": "7c55f459",
   "metadata": {},
   "outputs": [
    {
     "data": {
      "text/html": [
       "<div>\n",
       "<style scoped>\n",
       "    .dataframe tbody tr th:only-of-type {\n",
       "        vertical-align: middle;\n",
       "    }\n",
       "\n",
       "    .dataframe tbody tr th {\n",
       "        vertical-align: top;\n",
       "    }\n",
       "\n",
       "    .dataframe thead th {\n",
       "        text-align: right;\n",
       "    }\n",
       "</style>\n",
       "<table border=\"1\" class=\"dataframe\">\n",
       "  <thead>\n",
       "    <tr style=\"text-align: right;\">\n",
       "      <th></th>\n",
       "      <th></th>\n",
       "      <th>EXP TRIGO</th>\n",
       "      <th>EXP ARROZ</th>\n",
       "    </tr>\n",
       "    <tr>\n",
       "      <th>PAIS</th>\n",
       "      <th>ANO</th>\n",
       "      <th></th>\n",
       "      <th></th>\n",
       "    </tr>\n",
       "  </thead>\n",
       "  <tbody>\n",
       "    <tr>\n",
       "      <th>BRASIL</th>\n",
       "      <th>2021</th>\n",
       "      <td>0.623558</td>\n",
       "      <td>1.276983</td>\n",
       "    </tr>\n",
       "  </tbody>\n",
       "</table>\n",
       "</div>"
      ],
      "text/plain": [
       "             EXP TRIGO  EXP ARROZ\n",
       "PAIS   ANO                       \n",
       "BRASIL 2021   0.623558   1.276983"
      ]
     },
     "execution_count": 78,
     "metadata": {},
     "output_type": "execute_result"
    }
   ],
   "source": [
    "df_mult[0:1]# primeira a 2º linha"
   ]
  },
  {
   "cell_type": "code",
   "execution_count": 79,
   "id": "713f34cf",
   "metadata": {},
   "outputs": [
    {
     "data": {
      "text/html": [
       "<div>\n",
       "<style scoped>\n",
       "    .dataframe tbody tr th:only-of-type {\n",
       "        vertical-align: middle;\n",
       "    }\n",
       "\n",
       "    .dataframe tbody tr th {\n",
       "        vertical-align: top;\n",
       "    }\n",
       "\n",
       "    .dataframe thead tr th {\n",
       "        text-align: left;\n",
       "    }\n",
       "\n",
       "    .dataframe thead tr:last-of-type th {\n",
       "        text-align: right;\n",
       "    }\n",
       "</style>\n",
       "<table border=\"1\" class=\"dataframe\">\n",
       "  <thead>\n",
       "    <tr>\n",
       "      <th></th>\n",
       "      <th colspan=\"3\" halign=\"left\">EXP TRIGO</th>\n",
       "      <th colspan=\"3\" halign=\"left\">EXP ARROZ</th>\n",
       "    </tr>\n",
       "    <tr>\n",
       "      <th>ANO</th>\n",
       "      <th>2021</th>\n",
       "      <th>2022</th>\n",
       "      <th>2023</th>\n",
       "      <th>2021</th>\n",
       "      <th>2022</th>\n",
       "      <th>2023</th>\n",
       "    </tr>\n",
       "    <tr>\n",
       "      <th>PAIS</th>\n",
       "      <th></th>\n",
       "      <th></th>\n",
       "      <th></th>\n",
       "      <th></th>\n",
       "      <th></th>\n",
       "      <th></th>\n",
       "    </tr>\n",
       "  </thead>\n",
       "  <tbody>\n",
       "    <tr>\n",
       "      <th>ARGENTINA</th>\n",
       "      <td>-1.262729</td>\n",
       "      <td>-0.222613</td>\n",
       "      <td>-1.371232</td>\n",
       "      <td>-0.532829</td>\n",
       "      <td>0.440285</td>\n",
       "      <td>-0.568886</td>\n",
       "    </tr>\n",
       "    <tr>\n",
       "      <th>BRASIL</th>\n",
       "      <td>0.623558</td>\n",
       "      <td>0.715581</td>\n",
       "      <td>0.375865</td>\n",
       "      <td>1.276983</td>\n",
       "      <td>0.646917</td>\n",
       "      <td>1.446610</td>\n",
       "    </tr>\n",
       "    <tr>\n",
       "      <th>URUGUAI</th>\n",
       "      <td>0.785903</td>\n",
       "      <td>-0.449967</td>\n",
       "      <td>0.283529</td>\n",
       "      <td>-0.351723</td>\n",
       "      <td>0.271277</td>\n",
       "      <td>-0.375132</td>\n",
       "    </tr>\n",
       "  </tbody>\n",
       "</table>\n",
       "</div>"
      ],
      "text/plain": [
       "          EXP TRIGO                     EXP ARROZ                    \n",
       "ANO            2021      2022      2023      2021      2022      2023\n",
       "PAIS                                                                 \n",
       "ARGENTINA -1.262729 -0.222613 -1.371232 -0.532829  0.440285 -0.568886\n",
       "BRASIL     0.623558  0.715581  0.375865  1.276983  0.646917  1.446610\n",
       "URUGUAI    0.785903 -0.449967  0.283529 -0.351723  0.271277 -0.375132"
      ]
     },
     "execution_count": 79,
     "metadata": {},
     "output_type": "execute_result"
    }
   ],
   "source": [
    "# modificando a visualização\n",
    "df_mult_2=df_mult.unstack()\n",
    "df_mult_2"
   ]
  },
  {
   "cell_type": "code",
   "execution_count": 83,
   "id": "30dfb93f",
   "metadata": {},
   "outputs": [
    {
     "data": {
      "text/html": [
       "<div>\n",
       "<style scoped>\n",
       "    .dataframe tbody tr th:only-of-type {\n",
       "        vertical-align: middle;\n",
       "    }\n",
       "\n",
       "    .dataframe tbody tr th {\n",
       "        vertical-align: top;\n",
       "    }\n",
       "\n",
       "    .dataframe thead th {\n",
       "        text-align: right;\n",
       "    }\n",
       "</style>\n",
       "<table border=\"1\" class=\"dataframe\">\n",
       "  <thead>\n",
       "    <tr style=\"text-align: right;\">\n",
       "      <th></th>\n",
       "      <th>EXP TRIGO</th>\n",
       "      <th>EXP ARROZ</th>\n",
       "    </tr>\n",
       "    <tr>\n",
       "      <th>PAIS</th>\n",
       "      <th></th>\n",
       "      <th></th>\n",
       "    </tr>\n",
       "  </thead>\n",
       "  <tbody>\n",
       "    <tr>\n",
       "      <th>ARGENTINA</th>\n",
       "      <td>-0.222613</td>\n",
       "      <td>0.440285</td>\n",
       "    </tr>\n",
       "    <tr>\n",
       "      <th>BRASIL</th>\n",
       "      <td>0.715581</td>\n",
       "      <td>0.646917</td>\n",
       "    </tr>\n",
       "    <tr>\n",
       "      <th>URUGUAI</th>\n",
       "      <td>-0.449967</td>\n",
       "      <td>0.271277</td>\n",
       "    </tr>\n",
       "  </tbody>\n",
       "</table>\n",
       "</div>"
      ],
      "text/plain": [
       "           EXP TRIGO  EXP ARROZ\n",
       "PAIS                           \n",
       "ARGENTINA  -0.222613   0.440285\n",
       "BRASIL      0.715581   0.646917\n",
       "URUGUAI    -0.449967   0.271277"
      ]
     },
     "execution_count": 83,
     "metadata": {},
     "output_type": "execute_result"
    }
   ],
   "source": [
    "df_mult_2.xs(2022,axis = 1 , level = 1) # nesse caso as informação de ano estão na linha de indice 1 - axis se refere a linha"
   ]
  }
 ],
 "metadata": {
  "kernelspec": {
   "display_name": "Python 3 (ipykernel)",
   "language": "python",
   "name": "python3"
  },
  "language_info": {
   "codemirror_mode": {
    "name": "ipython",
    "version": 3
   },
   "file_extension": ".py",
   "mimetype": "text/x-python",
   "name": "python",
   "nbconvert_exporter": "python",
   "pygments_lexer": "ipython3",
   "version": "3.9.13"
  }
 },
 "nbformat": 4,
 "nbformat_minor": 5
}
