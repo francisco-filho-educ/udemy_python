{
 "cells": [
  {
   "cell_type": "code",
   "execution_count": 1,
   "id": "92adb997",
   "metadata": {},
   "outputs": [
    {
     "name": "stdout",
     "output_type": "stream",
     "text": [
      "Hoje é  1 º de dezembro!\n",
      "Hoje é  2 º de dezembro!\n",
      "Hoje é  3 º de dezembro!\n",
      "Hoje é  4 º de dezembro!\n",
      "Hoje é  5 º de dezembro!\n",
      "Hoje é  6 º de dezembro!\n",
      "Hoje é  7 º de dezembro!\n",
      "Hoje é  8 º de dezembro!\n",
      "Hoje é  9 º de dezembro!\n",
      "Hoje é  10 º de dezembro!\n",
      "Hoje é  11 º de dezembro!\n",
      "Hoje é  12 º de dezembro!\n",
      "Hoje é  13 º de dezembro!\n",
      "Hoje é  14 º de dezembro!\n",
      "Hoje é  15 º de dezembro!\n",
      "Hoje é  16 º de dezembro!\n",
      "Hoje é  17 º de dezembro!\n",
      "Hoje é  18 º de dezembro!\n",
      "Hoje é  19 º de dezembro!\n",
      "Hoje é  20 º de dezembro!\n",
      "Hoje é  21 º de dezembro!\n",
      "Hoje é  22 º de dezembro!\n",
      "Hoje é  23 º de dezembro!\n",
      "Hoje é  24 º de dezembro!\n",
      "Hoje é  25 º de dezembro!\n",
      "Hoje é  26 º de dezembro!\n",
      "Hoje é  27 º de dezembro!\n",
      "Hoje é  28 º de dezembro!\n",
      "Hoje é  29 º de dezembro!\n",
      "Hoje é  30 º de dezembro!\n",
      "Hoje é  31 º de dezembro!\n"
     ]
    }
   ],
   "source": [
    "dia = 1\n",
    "while(dia<=31): \n",
    "    print('Hoje é ', dia,'º de dezembro!')\n",
    "    dia = dia + 1"
   ]
  },
  {
   "cell_type": "code",
   "execution_count": 3,
   "id": "fe771396",
   "metadata": {},
   "outputs": [
    {
     "name": "stdout",
     "output_type": "stream",
     "text": [
      "Hoje é  1 º de dezembro.\n",
      "Hoje é  2 º de dezembro.\n",
      "Hoje é  3 º de dezembro.\n",
      "Hoje é  4 º de dezembro.\n",
      "Hoje é  5 º de dezembro.\n",
      "Hoje é  6 º de dezembro.\n",
      "Hoje é  7 º de dezembro.\n",
      "Hoje é  8 º de dezembro.\n",
      "Hoje é  9 º de dezembro.\n",
      "Hoje é  10 º de dezembro.\n",
      "Hoje é  11 º de dezembro.\n",
      "Hoje é  12 º de dezembro.\n",
      "Hoje é  13 º de dezembro.\n",
      "Hoje é  14 º de dezembro.\n",
      "Hoje é  15 º de dezembro.\n",
      "Hoje é  16 º de dezembro.\n",
      "Hoje é  17 º de dezembro.\n",
      "Hoje é  18 º de dezembro.\n",
      "Hoje é  19 º de dezembro.\n",
      "Hoje é  20 º de dezembro.\n",
      "Hoje é  21 º de dezembro.\n",
      "Hoje é  22 º de dezembro.\n",
      "Hoje é  23 º de dezembro.\n",
      "Hoje é  24 º de dezembro.\n",
      "FELIZ NATAL!!\n"
     ]
    }
   ],
   "source": [
    "#Usando break\n",
    "dia = 1\n",
    "while(dia<=31): \n",
    "    print('Hoje é ', dia,'º de dezembro.')\n",
    "    if(dia==24):\n",
    "        print('FELIZ NATAL!!')\n",
    "        break\n",
    "    dia = dia + 1"
   ]
  },
  {
   "cell_type": "code",
   "execution_count": 4,
   "id": "47151bc2",
   "metadata": {},
   "outputs": [
    {
     "name": "stdout",
     "output_type": "stream",
     "text": [
      "Hoje é  2 º de dezembro.\n",
      "Hoje é  3 º de dezembro.\n",
      "Hoje é  4 º de dezembro.\n",
      "Hoje é  5 º de dezembro.\n",
      "Hoje é  6 º de dezembro.\n",
      "Hoje é  7 º de dezembro.\n",
      "Hoje é  8 º de dezembro.\n",
      "Hoje é  9 º de dezembro.\n",
      "Hoje é  10 º de dezembro.\n",
      "Hoje é  11 º de dezembro.\n",
      "Hoje é  12 º de dezembro.\n",
      "Hoje é  13 º de dezembro.\n",
      "Hoje é  14 º de dezembro.\n",
      "Hoje é  15 º de dezembro.\n",
      "Hoje é  16 º de dezembro.\n",
      "Hoje é  17 º de dezembro.\n",
      "Hoje é  18 º de dezembro.\n",
      "Hoje é  19 º de dezembro.\n",
      "Hoje é  20 º de dezembro.\n",
      "Hoje é  21 º de dezembro.\n",
      "Hoje é  22 º de dezembro.\n",
      "Hoje é  23 º de dezembro.\n",
      "Não tem Natal!!\n",
      "Hoje é  25 º de dezembro.\n",
      "Hoje é  26 º de dezembro.\n",
      "Hoje é  27 º de dezembro.\n",
      "Hoje é  28 º de dezembro.\n",
      "Hoje é  29 º de dezembro.\n",
      "Hoje é  30 º de dezembro.\n",
      "Hoje é  31 º de dezembro.\n",
      "Hoje é  32 º de dezembro.\n"
     ]
    }
   ],
   "source": [
    "#Usando continue\n",
    "dia = 1\n",
    "while(dia<=31): \n",
    "    dia = dia + 1\n",
    "    if(dia==24):\n",
    "        print('Não tem Natal!!')\n",
    "        continue\n",
    "    print('Hoje é ', dia,'º de dezembro.')"
   ]
  },
  {
   "cell_type": "code",
   "execution_count": null,
   "id": "e9152309",
   "metadata": {},
   "outputs": [],
   "source": []
  }
 ],
 "metadata": {
  "kernelspec": {
   "display_name": "Python 3 (ipykernel)",
   "language": "python",
   "name": "python3"
  },
  "language_info": {
   "codemirror_mode": {
    "name": "ipython",
    "version": 3
   },
   "file_extension": ".py",
   "mimetype": "text/x-python",
   "name": "python",
   "nbconvert_exporter": "python",
   "pygments_lexer": "ipython3",
   "version": "3.9.13"
  }
 },
 "nbformat": 4,
 "nbformat_minor": 5
}
