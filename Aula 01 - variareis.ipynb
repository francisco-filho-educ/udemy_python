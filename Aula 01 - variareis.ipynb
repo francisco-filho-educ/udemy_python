{
 "cells": [
  {
   "cell_type": "code",
   "execution_count": 1,
   "id": "13c7cfc1",
   "metadata": {},
   "outputs": [],
   "source": [
    "# Tipos de variáveis"
   ]
  },
  {
   "cell_type": "code",
   "execution_count": 2,
   "id": "97d76a05",
   "metadata": {},
   "outputs": [],
   "source": [
    "#shit + enter para executar a linha"
   ]
  },
  {
   "cell_type": "code",
   "execution_count": 2,
   "id": "bd315133",
   "metadata": {},
   "outputs": [],
   "source": [
    "a = 110.0"
   ]
  },
  {
   "cell_type": "code",
   "execution_count": 3,
   "id": "c99b2ea5",
   "metadata": {},
   "outputs": [
    {
     "data": {
      "text/plain": [
       "float"
      ]
     },
     "execution_count": 3,
     "metadata": {},
     "output_type": "execute_result"
    }
   ],
   "source": [
    "type(a)"
   ]
  },
  {
   "cell_type": "code",
   "execution_count": 8,
   "id": "52a6c89f",
   "metadata": {},
   "outputs": [],
   "source": [
    "b = True"
   ]
  },
  {
   "cell_type": "code",
   "execution_count": 9,
   "id": "ba7ab860",
   "metadata": {},
   "outputs": [
    {
     "data": {
      "text/plain": [
       "bool"
      ]
     },
     "execution_count": 9,
     "metadata": {},
     "output_type": "execute_result"
    }
   ],
   "source": [
    "type(b)"
   ]
  },
  {
   "cell_type": "code",
   "execution_count": 9,
   "id": "64d9ac4c",
   "metadata": {},
   "outputs": [],
   "source": [
    "c = 'Isso é um texto'"
   ]
  },
  {
   "cell_type": "code",
   "execution_count": 11,
   "id": "573d8d6e",
   "metadata": {},
   "outputs": [
    {
     "data": {
      "text/plain": [
       "str"
      ]
     },
     "execution_count": 11,
     "metadata": {},
     "output_type": "execute_result"
    }
   ],
   "source": [
    "type(c)"
   ]
  },
  {
   "cell_type": "code",
   "execution_count": 12,
   "id": "5058fc13",
   "metadata": {},
   "outputs": [
    {
     "data": {
      "text/plain": [
       "str"
      ]
     },
     "execution_count": 12,
     "metadata": {},
     "output_type": "execute_result"
    }
   ],
   "source": [
    "type('a')"
   ]
  },
  {
   "cell_type": "code",
   "execution_count": 10,
   "id": "796e9fb2",
   "metadata": {},
   "outputs": [],
   "source": [
    "d = 4>5"
   ]
  },
  {
   "cell_type": "code",
   "execution_count": 11,
   "id": "d2e78f42",
   "metadata": {},
   "outputs": [
    {
     "data": {
      "text/plain": [
       "bool"
      ]
     },
     "execution_count": 11,
     "metadata": {},
     "output_type": "execute_result"
    }
   ],
   "source": [
    "type(d)"
   ]
  },
  {
   "cell_type": "code",
   "execution_count": 13,
   "id": "23529fe9",
   "metadata": {},
   "outputs": [
    {
     "data": {
      "text/plain": [
       "False"
      ]
     },
     "execution_count": 13,
     "metadata": {},
     "output_type": "execute_result"
    }
   ],
   "source": [
    "d"
   ]
  },
  {
   "cell_type": "code",
   "execution_count": 16,
   "id": "60fe30fb",
   "metadata": {},
   "outputs": [],
   "source": [
    "#datas\n",
    "from datetime import datetime"
   ]
  },
  {
   "cell_type": "code",
   "execution_count": 17,
   "id": "3c9a24d3",
   "metadata": {},
   "outputs": [
    {
     "data": {
      "text/plain": [
       "datetime.datetime(2024, 10, 17, 10, 16, 40, 506544)"
      ]
     },
     "execution_count": 17,
     "metadata": {},
     "output_type": "execute_result"
    }
   ],
   "source": [
    "datetime.today()"
   ]
  },
  {
   "cell_type": "code",
   "execution_count": 23,
   "id": "ed43fc99",
   "metadata": {},
   "outputs": [
    {
     "data": {
      "text/plain": [
       "<attribute 'year' of 'datetime.date' objects>"
      ]
     },
     "execution_count": 23,
     "metadata": {},
     "output_type": "execute_result"
    }
   ],
   "source": [
    "datetime.year"
   ]
  },
  {
   "cell_type": "code",
   "execution_count": 24,
   "id": "fd11bdf7",
   "metadata": {},
   "outputs": [],
   "source": [
    "def verifica_aniversario(data_nascimento):\n",
    "    # Converte a data de nascimento em um objeto datetime\n",
    "    data_nascimento = datetime.strptime(data_nascimento, \"%d/%m/%Y\")\n",
    "\n",
    "    # Pega a data atual\n",
    "    data_atual = datetime.now().date()\n",
    "\n",
    "    # Verifica se é o aniversário\n",
    "    if data_nascimento.month == data_atual.month and data_nascimento.day == data_atual.day:\n",
    "        return \"FELIZ ANIVERSÁRIO GRANDE ALVES!!\"\n",
    "    else:\n",
    "        return \"Mais um dia qualquer\""
   ]
  },
  {
   "cell_type": "code",
   "execution_count": 25,
   "id": "3d60d869",
   "metadata": {},
   "outputs": [
    {
     "name": "stdout",
     "output_type": "stream",
     "text": [
      "Digite a data de nascimento (dd/mm/aaaa): 20/03/1978\n",
      "Mais um dia qualquer\n"
     ]
    }
   ],
   "source": [
    "data_nascimento = input(\"Digite a data de nascimento (dd/mm/aaaa): \")\n",
    "mensagem = verifica_aniversario(data_nascimento)\n",
    "print(mensagem)"
   ]
  },
  {
   "cell_type": "code",
   "execution_count": 26,
   "id": "72b83220",
   "metadata": {},
   "outputs": [
    {
     "data": {
      "text/plain": [
       "datetime.datetime(1978, 3, 20, 0, 0)"
      ]
     },
     "execution_count": 26,
     "metadata": {},
     "output_type": "execute_result"
    }
   ],
   "source": [
    "datetime.strptime(data_nascimento, \"%d/%m/%Y\")\n"
   ]
  },
  {
   "cell_type": "code",
   "execution_count": 27,
   "id": "641014c4",
   "metadata": {},
   "outputs": [
    {
     "data": {
      "text/plain": [
       "'Mais um dia qualquer'"
      ]
     },
     "execution_count": 27,
     "metadata": {},
     "output_type": "execute_result"
    }
   ],
   "source": [
    "verifica_aniversario(data_nascimento)"
   ]
  },
  {
   "cell_type": "code",
   "execution_count": null,
   "id": "57cc3135",
   "metadata": {},
   "outputs": [],
   "source": []
  }
 ],
 "metadata": {
  "kernelspec": {
   "display_name": "Python 3 (ipykernel)",
   "language": "python",
   "name": "python3"
  },
  "language_info": {
   "codemirror_mode": {
    "name": "ipython",
    "version": 3
   },
   "file_extension": ".py",
   "mimetype": "text/x-python",
   "name": "python",
   "nbconvert_exporter": "python",
   "pygments_lexer": "ipython3",
   "version": "3.9.13"
  }
 },
 "nbformat": 4,
 "nbformat_minor": 5
}
