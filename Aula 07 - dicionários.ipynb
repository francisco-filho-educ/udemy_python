{
 "cells": [
  {
   "cell_type": "code",
   "execution_count": 1,
   "id": "aff2a326",
   "metadata": {},
   "outputs": [],
   "source": [
    "#Criando um dicionario. Método {} ou  dict()\n",
    "# Método {}\n",
    "contatos_1 = {'nome':'João','idade':35,'sexo':'masculino','dt_nascimento':'1997-03-21'}\n",
    "#obs: as chaves do dicionario seguem as regras de criação de variáveis (não podem ser numericas)"
   ]
  },
  {
   "cell_type": "code",
   "execution_count": 4,
   "id": "1ceb69ba",
   "metadata": {},
   "outputs": [],
   "source": [
    "# Método dict()\n",
    "contatos_2 = dict(nome = 'José',idade = 26 , sexo = 'masculino',dt_nascimento ='1989-01-18')"
   ]
  },
  {
   "cell_type": "code",
   "execution_count": 2,
   "id": "f084bc50",
   "metadata": {},
   "outputs": [
    {
     "data": {
      "text/plain": [
       "'João'"
      ]
     },
     "execution_count": 2,
     "metadata": {},
     "output_type": "execute_result"
    }
   ],
   "source": [
    "# acessando \n",
    "contatos_1['nome']"
   ]
  },
  {
   "cell_type": "code",
   "execution_count": 5,
   "id": "a772d34a",
   "metadata": {},
   "outputs": [
    {
     "data": {
      "text/plain": [
       "'José'"
      ]
     },
     "execution_count": 5,
     "metadata": {},
     "output_type": "execute_result"
    }
   ],
   "source": [
    " contatos_2['nome']"
   ]
  },
  {
   "cell_type": "code",
   "execution_count": 6,
   "id": "cdd00264",
   "metadata": {},
   "outputs": [
    {
     "data": {
      "text/plain": [
       "True"
      ]
     },
     "execution_count": 6,
     "metadata": {},
     "output_type": "execute_result"
    }
   ],
   "source": [
    "# Verificar se contem determinado valor\n",
    "'João' in contatos_1.values()"
   ]
  },
  {
   "cell_type": "code",
   "execution_count": 7,
   "id": "554e274f",
   "metadata": {},
   "outputs": [
    {
     "data": {
      "text/plain": [
       "True"
      ]
     },
     "execution_count": 7,
     "metadata": {},
     "output_type": "execute_result"
    }
   ],
   "source": [
    "# Verificar se contem determinada chave\n",
    "# 'nome' in contatos_1\n",
    "'nome' in contatos_1.keys()"
   ]
  },
  {
   "cell_type": "code",
   "execution_count": 11,
   "id": "1a258147",
   "metadata": {},
   "outputs": [
    {
     "data": {
      "text/plain": [
       "True"
      ]
     },
     "execution_count": 11,
     "metadata": {},
     "output_type": "execute_result"
    }
   ],
   "source": [
    "# Verificar se contém uma chave/valor, nesse caso a chave/valor deve ir em um tupla\n",
    "('nome','João') in contatos_1.items()\n"
   ]
  },
  {
   "cell_type": "code",
   "execution_count": 12,
   "id": "107f9b96",
   "metadata": {},
   "outputs": [],
   "source": [
    "## Alterando valores\n",
    "del(contatos_1['dt_nascimento']) # removendo valores"
   ]
  },
  {
   "cell_type": "code",
   "execution_count": 13,
   "id": "35e661c9",
   "metadata": {},
   "outputs": [],
   "source": [
    "contatos_1['dt_nascimento'] = '1997-03-21' # adicionando valores"
   ]
  },
  {
   "cell_type": "code",
   "execution_count": 14,
   "id": "79e170db",
   "metadata": {},
   "outputs": [
    {
     "data": {
      "text/plain": [
       "{'nome': 'João',\n",
       " 'idade': 35,\n",
       " 'sexo': 'masculino',\n",
       " 'dt_nascimento': '1997-03-21'}"
      ]
     },
     "execution_count": 14,
     "metadata": {},
     "output_type": "execute_result"
    }
   ],
   "source": [
    "contatos_1"
   ]
  },
  {
   "cell_type": "code",
   "execution_count": 15,
   "id": "6096d485",
   "metadata": {},
   "outputs": [],
   "source": [
    "# Copiando valores\n",
    "contatos_1_a = contatos_1 # usando igualdade \" = \" cria uma cópia dependente do dicionario original\n",
    "contatos_1_b = contatos_1.copy() # método copy() cria uma cópia indedependente do dicionario original"
   ]
  },
  {
   "cell_type": "code",
   "execution_count": 16,
   "id": "5e78a142",
   "metadata": {},
   "outputs": [
    {
     "data": {
      "text/plain": [
       "{'nome': 'João',\n",
       " 'idade': 35,\n",
       " 'sexo': 'masculino',\n",
       " 'dt_nascimento': '1997-03-21'}"
      ]
     },
     "execution_count": 16,
     "metadata": {},
     "output_type": "execute_result"
    }
   ],
   "source": [
    "contatos_1_a"
   ]
  },
  {
   "cell_type": "code",
   "execution_count": 17,
   "id": "82c23407",
   "metadata": {},
   "outputs": [],
   "source": [
    "del(contatos_1['dt_nascimento']) "
   ]
  },
  {
   "cell_type": "code",
   "execution_count": 18,
   "id": "62ef46e7",
   "metadata": {},
   "outputs": [
    {
     "data": {
      "text/plain": [
       "{'nome': 'João', 'idade': 35, 'sexo': 'masculino'}"
      ]
     },
     "execution_count": 18,
     "metadata": {},
     "output_type": "execute_result"
    }
   ],
   "source": [
    "contatos_1_a # se mudar a original a cópia é modificada automaticamente"
   ]
  },
  {
   "cell_type": "code",
   "execution_count": 19,
   "id": "df266fe3",
   "metadata": {},
   "outputs": [
    {
     "data": {
      "text/plain": [
       "{'nome': 'João',\n",
       " 'idade': 35,\n",
       " 'sexo': 'masculino',\n",
       " 'dt_nascimento': '1997-03-21'}"
      ]
     },
     "execution_count": 19,
     "metadata": {},
     "output_type": "execute_result"
    }
   ],
   "source": [
    "contatos_1_b # não sofre modificações"
   ]
  },
  {
   "cell_type": "code",
   "execution_count": 20,
   "id": "c9f8fdbf",
   "metadata": {},
   "outputs": [],
   "source": [
    "#juntando dicionarios\n",
    "alunos_1 = {'a75985' : 'Fábio','a78625': 'Lucas','a216986': 'José'}\n",
    "alunos_2 = dict(b628746 = 'Mateus',b85456 = 'Lara')"
   ]
  },
  {
   "cell_type": "code",
   "execution_count": 21,
   "id": "70c2643a",
   "metadata": {},
   "outputs": [],
   "source": [
    "alunos_1.update(alunos_2)"
   ]
  },
  {
   "cell_type": "code",
   "execution_count": 22,
   "id": "4ec45aa4",
   "metadata": {},
   "outputs": [
    {
     "data": {
      "text/plain": [
       "{'a75985': 'Fábio',\n",
       " 'a78625': 'Lucas',\n",
       " 'a216986': 'José',\n",
       " 'b628746': 'Mateus',\n",
       " 'b85456': 'Lara'}"
      ]
     },
     "execution_count": 22,
     "metadata": {},
     "output_type": "execute_result"
    }
   ],
   "source": [
    "alunos_1 "
   ]
  },
  {
   "cell_type": "code",
   "execution_count": 23,
   "id": "41db8e30",
   "metadata": {},
   "outputs": [],
   "source": [
    "alunos_2.update(alunos_1)"
   ]
  },
  {
   "cell_type": "code",
   "execution_count": 24,
   "id": "7110c14a",
   "metadata": {},
   "outputs": [
    {
     "data": {
      "text/plain": [
       "{'b628746': 'Mateus',\n",
       " 'b85456': 'Lara',\n",
       " 'a75985': 'Fábio',\n",
       " 'a78625': 'Lucas',\n",
       " 'a216986': 'José'}"
      ]
     },
     "execution_count": 24,
     "metadata": {},
     "output_type": "execute_result"
    }
   ],
   "source": [
    "alunos_2"
   ]
  },
  {
   "cell_type": "code",
   "execution_count": null,
   "id": "e11de21d",
   "metadata": {},
   "outputs": [],
   "source": []
  }
 ],
 "metadata": {
  "kernelspec": {
   "display_name": "Python 3 (ipykernel)",
   "language": "python",
   "name": "python3"
  },
  "language_info": {
   "codemirror_mode": {
    "name": "ipython",
    "version": 3
   },
   "file_extension": ".py",
   "mimetype": "text/x-python",
   "name": "python",
   "nbconvert_exporter": "python",
   "pygments_lexer": "ipython3",
   "version": "3.9.13"
  }
 },
 "nbformat": 4,
 "nbformat_minor": 5
}
