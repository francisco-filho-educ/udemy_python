{
 "cells": [
  {
   "cell_type": "code",
   "execution_count": 1,
   "id": "1ae5baf1",
   "metadata": {},
   "outputs": [],
   "source": [
    "#Operações com variáveis"
   ]
  },
  {
   "cell_type": "code",
   "execution_count": 1,
   "id": "a0c751cc",
   "metadata": {},
   "outputs": [],
   "source": [
    "#Variaveis:\n",
    "a = 20\n",
    "b = 5\n",
    "c = 3\n",
    "d = 4.5\n",
    "e = True\n",
    "f = False\n",
    "g = '10'"
   ]
  },
  {
   "cell_type": "code",
   "execution_count": 6,
   "id": "a6d7b65c",
   "metadata": {},
   "outputs": [],
   "source": [
    "#soma: + \n",
    "resultado_1 = a + b # 25 - (inteiro + inteiro) realiza a soma normalmente \n",
    "resultado_2 = a + d # 24.5 - (inteiro + float) realiza a soma normalmente \n",
    "resultado_3 = a + e # 21 - (inteiro + bool) realiza a soma considerando False como 0 e True como 1\n",
    "resultado_4 = e + f + e # 1 - (bool + bool) realiza a soma considerando False como 0 e True como 1\n",
    "resultado_5 = g + g # '1010' - concatena as strings"
   ]
  },
  {
   "cell_type": "code",
   "execution_count": 8,
   "id": "2f81bd7a",
   "metadata": {},
   "outputs": [
    {
     "data": {
      "text/plain": [
       "'1010'"
      ]
     },
     "execution_count": 8,
     "metadata": {},
     "output_type": "execute_result"
    }
   ],
   "source": [
    "resultado_5"
   ]
  },
  {
   "cell_type": "code",
   "execution_count": 22,
   "id": "8f7e8ad9",
   "metadata": {},
   "outputs": [],
   "source": [
    "#Subtração: -\n",
    "resultado_1 = a - b # 15 - (inteiro - inteiro) realiza a subtração normalmente \n",
    "resultado_2 = a - d # 15.5 - (inteiro - float) realiza a subtração normalmente \n",
    "resultado_3 = a - e # 19- (inteiro - bool) realiza a subtração considerando False como 0 e True como 1\n",
    "resultado_4 = e - f # 1 - (bool - bool) realiza a subtração considerando False como 0 e True como 1\n",
    "#resultado_5 = g - g # Gera um erro"
   ]
  },
  {
   "cell_type": "code",
   "execution_count": 42,
   "id": "c804dcc0",
   "metadata": {},
   "outputs": [],
   "source": [
    "#Multiplicação: *\n",
    "resultado_1 = a * b # 100 - (inteiro * inteiro) realiza a operação normalmente \n",
    "resultado_2 = a * d # 90.0 - (inteiro * float) realiza a operação normalmente \n",
    "resultado_3 = a * e # 20- (inteiro * bool) realiza a operação considerando False como 0 e True como 1\n",
    "resultado_4 = f * e # 0 - (bool * bool) realiza a operação False considerando False como 0 e True como 1\n",
    "#resultado_5 = g * g # Gera um erro"
   ]
  },
  {
   "cell_type": "code",
   "execution_count": 43,
   "id": "8e6bb8b2",
   "metadata": {},
   "outputs": [],
   "source": [
    "#Divisão: /\n",
    "resultado_1 = a / b # 4.0 - (inteiro / inteiro) realiza a operação normalmente \n",
    "resultado_2 = a / d # 4.444444444444445 - (inteiro / float) realiza a operação normalmente \n",
    "resultado_3 = a / e # 20.0- (inteiro / bool) realiza a operação considerando False como 0 e True como 1\n",
    "resultado_4 = f / e  # 0.0 - (bool / bool) realiza a soma operação False como 0 e True como 1\n",
    "#resultado_5 = g / g # Gera um erro"
   ]
  },
  {
   "cell_type": "code",
   "execution_count": 9,
   "id": "0311e23e",
   "metadata": {},
   "outputs": [],
   "source": [
    "#Exponenciação: **\n",
    "resultado_1 = a ** b # 3200000 - (inteiro ** inteiro) realiza a operação normalmente \n",
    "resultado_2 = a ** d # 715541.7527999327 - (inteiro ** float) realiza a operação normalmente \n",
    "resultado_3 = a ** e # 20- (inteiro ** bool) realiza a operação considerando False como 0 e True como 1\n",
    "resultado_4 = f ** e # 0 - (bool ** bool) realiza a operação False considerando False como 0 e True como 1\n",
    "#resultado_5 = g ** g # Gera um erro"
   ]
  },
  {
   "cell_type": "code",
   "execution_count": 59,
   "id": "8767da17",
   "metadata": {},
   "outputs": [],
   "source": [
    "#Divisão inteira: //\n",
    "resultado_1 = a // b # 4 - (inteiro // inteiro) realiza a operação normalmente \n",
    "resultado_2 = a / c # 6.666666666666667 - resultado decimal de uma divisão simples  \n",
    "resultado_3 = a // c # 6 - resultado decimal de uma divisão inteira \n"
   ]
  },
  {
   "cell_type": "code",
   "execution_count": 64,
   "id": "e92b6265",
   "metadata": {},
   "outputs": [],
   "source": [
    "# Resto da divisão (mod): %\n",
    "resultado_1 = a % b # 0 \n",
    "resultado_2 = a % c # 2 \n",
    "resultado_3 = a % d # 6 - resultado decimal de uma divisão inteira "
   ]
  },
  {
   "cell_type": "code",
   "execution_count": 10,
   "id": "f9603d87",
   "metadata": {},
   "outputs": [
    {
     "data": {
      "text/plain": [
       "3200000"
      ]
     },
     "execution_count": 10,
     "metadata": {},
     "output_type": "execute_result"
    }
   ],
   "source": [
    "resultado_1\n"
   ]
  },
  {
   "cell_type": "code",
   "execution_count": 11,
   "id": "64760f7b",
   "metadata": {},
   "outputs": [
    {
     "data": {
      "text/plain": [
       "715541.7527999327"
      ]
     },
     "execution_count": 11,
     "metadata": {},
     "output_type": "execute_result"
    }
   ],
   "source": [
    "resultado_2"
   ]
  },
  {
   "cell_type": "code",
   "execution_count": 67,
   "id": "9df42dfd",
   "metadata": {},
   "outputs": [
    {
     "data": {
      "text/plain": [
       "2.0"
      ]
     },
     "execution_count": 67,
     "metadata": {},
     "output_type": "execute_result"
    }
   ],
   "source": [
    "resultado_3"
   ]
  },
  {
   "cell_type": "code",
   "execution_count": 12,
   "id": "724b22ef",
   "metadata": {},
   "outputs": [
    {
     "data": {
      "text/plain": [
       "0"
      ]
     },
     "execution_count": 12,
     "metadata": {},
     "output_type": "execute_result"
    }
   ],
   "source": [
    "resultado_4"
   ]
  },
  {
   "cell_type": "code",
   "execution_count": 13,
   "id": "6bc04cd1",
   "metadata": {},
   "outputs": [
    {
     "data": {
      "text/plain": [
       "'1010'"
      ]
     },
     "execution_count": 13,
     "metadata": {},
     "output_type": "execute_result"
    }
   ],
   "source": [
    "resultado_5"
   ]
  },
  {
   "cell_type": "code",
   "execution_count": 13,
   "id": "de70a6bf",
   "metadata": {},
   "outputs": [
    {
     "data": {
      "text/plain": [
       "bool"
      ]
     },
     "execution_count": 13,
     "metadata": {},
     "output_type": "execute_result"
    }
   ],
   "source": [
    "type(False)\n"
   ]
  },
  {
   "cell_type": "code",
   "execution_count": 69,
   "id": "c1cf3af5",
   "metadata": {},
   "outputs": [
    {
     "data": {
      "text/plain": [
       "4.444444444444445"
      ]
     },
     "execution_count": 69,
     "metadata": {},
     "output_type": "execute_result"
    }
   ],
   "source": [
    "20/4.5\n"
   ]
  },
  {
   "cell_type": "code",
   "execution_count": null,
   "id": "8aa0d281",
   "metadata": {},
   "outputs": [],
   "source": []
  }
 ],
 "metadata": {
  "kernelspec": {
   "display_name": "Python 3 (ipykernel)",
   "language": "python",
   "name": "python3"
  },
  "language_info": {
   "codemirror_mode": {
    "name": "ipython",
    "version": 3
   },
   "file_extension": ".py",
   "mimetype": "text/x-python",
   "name": "python",
   "nbconvert_exporter": "python",
   "pygments_lexer": "ipython3",
   "version": "3.9.13"
  }
 },
 "nbformat": 4,
 "nbformat_minor": 5
}
