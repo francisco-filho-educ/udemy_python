{
 "cells": [
  {
   "cell_type": "code",
   "execution_count": 6,
   "id": "bfb9dc3f",
   "metadata": {},
   "outputs": [
    {
     "name": "stdout",
     "output_type": "stream",
     "text": [
      "0  é par\n",
      "1  é ímpar\n",
      "2  é par\n",
      "3  é ímpar\n",
      "4  é par\n",
      "5  é ímpar\n",
      "6  é par\n",
      "7  é ímpar\n",
      "8  é par\n",
      "9  é ímpar\n"
     ]
    }
   ],
   "source": [
    "# identação, niveis hierárquicos\n",
    "contador = 0\n",
    "while(contador < 10): \n",
    "    if(contador%2==0 ): # 1 tab ou 4 espaços\n",
    "        print(contador,' é par') # 2 tab ou 8 espaços\n",
    "    else:\n",
    "        print(contador,' é ímpar')\n",
    "    contador = contador + 1"
   ]
  },
  {
   "cell_type": "code",
   "execution_count": 12,
   "id": "be8cc4c4",
   "metadata": {},
   "outputs": [
    {
     "name": "stdout",
     "output_type": "stream",
     "text": [
      "CREDE 1\n",
      "CREDE 2\n",
      "CREDE 3\n",
      "CREDE 4\n",
      "CREDE 5\n",
      "CREDE 6\n",
      "CREDE 7\n",
      "CREDE 8\n",
      "CREDE 9\n",
      "CREDE 10\n",
      "CREDE 11\n",
      "CREDE 12\n",
      "CREDE 13\n",
      "CREDE 14\n",
      "CREDE 15\n",
      "CREDE 16\n",
      "CREDE 17\n",
      "CREDE 18\n",
      "CREDE 19\n",
      "CREDE 20\n",
      "SEFOR 1\n",
      "SEFOR 2\n",
      "SEFOR 3\n"
     ]
    }
   ],
   "source": [
    "cd_crede_sefor = 1\n",
    "while(cd_crede_sefor<24):\n",
    "    if(cd_crede_sefor<21):\n",
    "        print('CREDE',cd_crede_sefor) \n",
    "    elif(cd_crede_sefor == 21):\n",
    "        print('SEFOR',1)\n",
    "    elif(cd_crede_sefor == 22):\n",
    "        print('SEFOR',2)\n",
    "    else:\n",
    "        print('SEFOR',3)\n",
    "       \n",
    "    cd_crede_sefor = cd_crede_sefor + 1"
   ]
  },
  {
   "cell_type": "code",
   "execution_count": 8,
   "id": "0e2952ff",
   "metadata": {},
   "outputs": [
    {
     "name": "stdout",
     "output_type": "stream",
     "text": [
      "SEFOR 3\n"
     ]
    }
   ],
   "source": [
    "print('SEFOR',3)"
   ]
  },
  {
   "cell_type": "code",
   "execution_count": null,
   "id": "e028cd50",
   "metadata": {},
   "outputs": [],
   "source": []
  }
 ],
 "metadata": {
  "kernelspec": {
   "display_name": "Python 3 (ipykernel)",
   "language": "python",
   "name": "python3"
  },
  "language_info": {
   "codemirror_mode": {
    "name": "ipython",
    "version": 3
   },
   "file_extension": ".py",
   "mimetype": "text/x-python",
   "name": "python",
   "nbconvert_exporter": "python",
   "pygments_lexer": "ipython3",
   "version": "3.9.13"
  }
 },
 "nbformat": 4,
 "nbformat_minor": 5
}
