{
 "cells": [
  {
   "cell_type": "code",
   "execution_count": 1,
   "id": "dd88cd0a",
   "metadata": {},
   "outputs": [
    {
     "name": "stdout",
     "output_type": "stream",
     "text": [
      "Criança\n"
     ]
    }
   ],
   "source": [
    "# estruturas de decisão\n",
    "idade = 2\n",
    "#\n",
    "if(idade < 13):\n",
    "    print('Criança')\n",
    "elif(idade >= 13 and idade < 18 ):\n",
    "    print('Adolescente')\n",
    "elif(idade >=18 and idade < 60 ):\n",
    "    print('Adulto')\n",
    "else:\n",
    "    print('Idoso')\n"
   ]
  },
  {
   "cell_type": "code",
   "execution_count": null,
   "id": "5e0460c4",
   "metadata": {},
   "outputs": [],
   "source": []
  }
 ],
 "metadata": {
  "kernelspec": {
   "display_name": "Python 3 (ipykernel)",
   "language": "python",
   "name": "python3"
  },
  "language_info": {
   "codemirror_mode": {
    "name": "ipython",
    "version": 3
   },
   "file_extension": ".py",
   "mimetype": "text/x-python",
   "name": "python",
   "nbconvert_exporter": "python",
   "pygments_lexer": "ipython3",
   "version": "3.9.13"
  }
 },
 "nbformat": 4,
 "nbformat_minor": 5
}
