{
 "cells": [
  {
   "cell_type": "code",
   "execution_count": 1,
   "id": "2955be55",
   "metadata": {},
   "outputs": [],
   "source": [
    "import numpy as np"
   ]
  },
  {
   "cell_type": "code",
   "execution_count": 2,
   "id": "70e5c47e",
   "metadata": {},
   "outputs": [],
   "source": [
    "vetor = np.arange(1,11,dtype =int)"
   ]
  },
  {
   "cell_type": "code",
   "execution_count": 3,
   "id": "1e207756",
   "metadata": {},
   "outputs": [
    {
     "data": {
      "text/plain": [
       "array([ 1,  2,  3,  4,  5,  6,  7,  8,  9, 10])"
      ]
     },
     "execution_count": 3,
     "metadata": {},
     "output_type": "execute_result"
    }
   ],
   "source": [
    "vetor"
   ]
  },
  {
   "cell_type": "code",
   "execution_count": 13,
   "id": "972d0035",
   "metadata": {},
   "outputs": [
    {
     "data": {
      "text/plain": [
       "5"
      ]
     },
     "execution_count": 13,
     "metadata": {},
     "output_type": "execute_result"
    }
   ],
   "source": [
    "#indexacao de arrays unidimensionais\n",
    "#vetor[4] # acessa o 5º elemento do vetor\n",
    "#vetor[2:8] #acessa do 3º ao 8º elemento (atenção, nesse caso a ordem do ultimo elemento coincide com o número do índice  )\n",
    "#vetor[:8] #acessa do 1º ao 8º elemento\n",
    "#vetor[5:] #acessa do 6º ao ultimo elemento"
   ]
  },
  {
   "cell_type": "code",
   "execution_count": 20,
   "id": "6da16984",
   "metadata": {},
   "outputs": [],
   "source": [
    "# vetores bidimensionais\n",
    "matriz = np.random.randint(10,50,size = (4,4))"
   ]
  },
  {
   "cell_type": "code",
   "execution_count": 21,
   "id": "6fbbc79f",
   "metadata": {},
   "outputs": [
    {
     "data": {
      "text/plain": [
       "array([[27, 47, 14, 22],\n",
       "       [16, 10, 33, 18],\n",
       "       [46, 46, 43, 25],\n",
       "       [31, 16, 17, 13]])"
      ]
     },
     "execution_count": 21,
     "metadata": {},
     "output_type": "execute_result"
    }
   ],
   "source": [
    "matriz"
   ]
  },
  {
   "cell_type": "code",
   "execution_count": 24,
   "id": "cc32b628",
   "metadata": {},
   "outputs": [
    {
     "data": {
      "text/plain": [
       "27"
      ]
     },
     "execution_count": 24,
     "metadata": {},
     "output_type": "execute_result"
    }
   ],
   "source": [
    "## matriz[linha][coluna]\n",
    "matriz[0][0] # 1ª linha, 1ª coluna\n",
    "#matriz[1][2] # 2ª linha, 3º coluna\n",
    "#matriz[2][0:2] # 3º linha do 1º ao 2º coluna"
   ]
  },
  {
   "cell_type": "code",
   "execution_count": 25,
   "id": "0f1f60b8",
   "metadata": {},
   "outputs": [],
   "source": [
    "matriz_2 = np.random.randint(1,101,size =(10,10))"
   ]
  },
  {
   "cell_type": "code",
   "execution_count": 26,
   "id": "ccf3b96a",
   "metadata": {},
   "outputs": [
    {
     "data": {
      "text/plain": [
       "array([[  8,  83,  58,  44,  62,  10,  50,  84,   5,  78],\n",
       "       [ 36,  48,  77,  91,  17,  66, 100,  42,  16,  95],\n",
       "       [  1,  72,  65,  83,  95,  84,  31,  55,  27,   5],\n",
       "       [ 47,  73,  45,  68,  43,  96,  46,  34,  68,  52],\n",
       "       [ 21,  90,  54,  54,  76,  13,  96,  31,  17,  24],\n",
       "       [ 24,   2,  71,  18,  41,  74,  51,  76,  47,  32],\n",
       "       [ 49,  65,  42,  47,  66,  59,  26,  56,  54,  12],\n",
       "       [ 49,   2,  82,  64,  93,   3,  26,  92, 100,  37],\n",
       "       [ 36,  51,  65,  60,  90,  83,   9,   2,  53,  19],\n",
       "       [ 93,  98,   6,  92,  18,  19,  55,  58,  60,  94]])"
      ]
     },
     "execution_count": 26,
     "metadata": {},
     "output_type": "execute_result"
    }
   ],
   "source": [
    "matriz_2"
   ]
  },
  {
   "cell_type": "code",
   "execution_count": 29,
   "id": "5e2e3c57",
   "metadata": {},
   "outputs": [
    {
     "data": {
      "text/plain": [
       "array([[84,  5, 78],\n",
       "       [42, 16, 95],\n",
       "       [55, 27,  5]])"
      ]
     },
     "execution_count": 29,
     "metadata": {},
     "output_type": "execute_result"
    }
   ],
   "source": [
    "#matriz[linha,coluna] -- outra forma de acesso\n",
    "#matriz_2[3,3] # 3º linha e 4º coluna\n",
    "matriz_2[:3,7:] # 1º a 3º linha, 7ª a ultima coluna (obs: sempre inicia a contagem com 0)"
   ]
  },
  {
   "cell_type": "code",
   "execution_count": 30,
   "id": "e4b01d50",
   "metadata": {},
   "outputs": [
    {
     "data": {
      "text/plain": [
       "array([[21, 90, 54, 54, 76, 13, 96, 31, 17, 24],\n",
       "       [49, 65, 42, 47, 66, 59, 26, 56, 54, 12],\n",
       "       [36, 51, 65, 60, 90, 83,  9,  2, 53, 19]])"
      ]
     },
     "execution_count": 30,
     "metadata": {},
     "output_type": "execute_result"
    }
   ],
   "source": [
    "#matriz2[[linhas]] # dois colchetes retorna o as linhas\n",
    "matriz_2[[4,6,8]] # retorna a 5º, a 7º e a 9º coluna"
   ]
  },
  {
   "cell_type": "code",
   "execution_count": null,
   "id": "e56c1a67",
   "metadata": {},
   "outputs": [],
   "source": []
  }
 ],
 "metadata": {
  "kernelspec": {
   "display_name": "Python 3 (ipykernel)",
   "language": "python",
   "name": "python3"
  },
  "language_info": {
   "codemirror_mode": {
    "name": "ipython",
    "version": 3
   },
   "file_extension": ".py",
   "mimetype": "text/x-python",
   "name": "python",
   "nbconvert_exporter": "python",
   "pygments_lexer": "ipython3",
   "version": "3.9.13"
  }
 },
 "nbformat": 4,
 "nbformat_minor": 5
}
