{
 "cells": [
  {
   "cell_type": "code",
   "execution_count": 4,
   "id": "70c99872",
   "metadata": {},
   "outputs": [],
   "source": [
    "#tuplas são semalhantes as listas, porém são imutaveis\n",
    "lista = [1,2,3,4,5,6]\n",
    "tupla = (1,2,3,4,5,7) # usa parênteses ao invés de colchetes"
   ]
  },
  {
   "cell_type": "code",
   "execution_count": 7,
   "id": "6b120380",
   "metadata": {},
   "outputs": [
    {
     "data": {
      "text/plain": [
       "2"
      ]
     },
     "execution_count": 7,
     "metadata": {},
     "output_type": "execute_result"
    }
   ],
   "source": [
    "# as formas de acesso são exatamente iguais  as da lista\n",
    "tupla[1]\n",
    "#tupla[2:]"
   ]
  },
  {
   "cell_type": "code",
   "execution_count": 8,
   "id": "0ce95a9e",
   "metadata": {},
   "outputs": [
    {
     "data": {
      "text/plain": [
       "(1, 2, 3, 4, 5, 7, 6, 7, 8)"
      ]
     },
     "execution_count": 8,
     "metadata": {},
     "output_type": "execute_result"
    }
   ],
   "source": [
    "tupla + (6,7,8) # permite concatenação"
   ]
  },
  {
   "cell_type": "code",
   "execution_count": 20,
   "id": "616f9239",
   "metadata": {},
   "outputs": [],
   "source": [
    "# tupla[2] = -3 # Erro! não permite substituir valores\n",
    "# tupla.append(1) # Erro! não permite acrescentar valores\n",
    "# del(tupla[1]) # Erro! não permite deletar valores"
   ]
  },
  {
   "cell_type": "code",
   "execution_count": null,
   "id": "fd801352",
   "metadata": {},
   "outputs": [],
   "source": []
  }
 ],
 "metadata": {
  "kernelspec": {
   "display_name": "Python 3 (ipykernel)",
   "language": "python",
   "name": "python3"
  },
  "language_info": {
   "codemirror_mode": {
    "name": "ipython",
    "version": 3
   },
   "file_extension": ".py",
   "mimetype": "text/x-python",
   "name": "python",
   "nbconvert_exporter": "python",
   "pygments_lexer": "ipython3",
   "version": "3.9.13"
  }
 },
 "nbformat": 4,
 "nbformat_minor": 5
}
