{
 "cells": [
  {
   "cell_type": "code",
   "execution_count": 1,
   "id": "56eee807",
   "metadata": {},
   "outputs": [
    {
     "data": {
      "text/plain": [
       "True"
      ]
     },
     "execution_count": 1,
     "metadata": {},
     "output_type": "execute_result"
    }
   ],
   "source": [
    "# Igualdade\n",
    "5==(4+1)\n"
   ]
  },
  {
   "cell_type": "code",
   "execution_count": 4,
   "id": "a26cc0cb",
   "metadata": {},
   "outputs": [
    {
     "data": {
      "text/plain": [
       "True"
      ]
     },
     "execution_count": 4,
     "metadata": {},
     "output_type": "execute_result"
    }
   ],
   "source": [
    "# Maior e menor\n",
    "5 > 4\n",
    "4 < 5"
   ]
  },
  {
   "cell_type": "code",
   "execution_count": 5,
   "id": "6dda474b",
   "metadata": {},
   "outputs": [
    {
     "data": {
      "text/plain": [
       "True"
      ]
     },
     "execution_count": 5,
     "metadata": {},
     "output_type": "execute_result"
    }
   ],
   "source": [
    "#conectivos\n",
    "(5 > 3 and 20 < 44) or (10>=5)"
   ]
  },
  {
   "cell_type": "code",
   "execution_count": null,
   "id": "2ac4e3c0",
   "metadata": {},
   "outputs": [],
   "source": []
  }
 ],
 "metadata": {
  "kernelspec": {
   "display_name": "Python 3 (ipykernel)",
   "language": "python",
   "name": "python3"
  },
  "language_info": {
   "codemirror_mode": {
    "name": "ipython",
    "version": 3
   },
   "file_extension": ".py",
   "mimetype": "text/x-python",
   "name": "python",
   "nbconvert_exporter": "python",
   "pygments_lexer": "ipython3",
   "version": "3.9.13"
  }
 },
 "nbformat": 4,
 "nbformat_minor": 5
}
