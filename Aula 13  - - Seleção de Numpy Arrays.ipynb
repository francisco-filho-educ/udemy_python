{
 "cells": [
  {
   "cell_type": "code",
   "execution_count": 1,
   "id": "b3b3a0da",
   "metadata": {},
   "outputs": [],
   "source": [
    "import numpy as np"
   ]
  },
  {
   "cell_type": "code",
   "execution_count": 5,
   "id": "d58dce88",
   "metadata": {},
   "outputs": [],
   "source": [
    "idade = np.random.randint(15,60,size=(50,10)) # cria um array bidimensional com 50 linhas e 50 colunas"
   ]
  },
  {
   "cell_type": "code",
   "execution_count": 12,
   "id": "95415647",
   "metadata": {},
   "outputs": [],
   "source": [
    "#idade"
   ]
  },
  {
   "cell_type": "code",
   "execution_count": 19,
   "id": "88b710f3",
   "metadata": {},
   "outputs": [],
   "source": [
    "## Quantos valores possui o array?\n",
    "#len(idade) # retorna o tamanho do array se for unidirecional\n",
    "#idade.size # retorna o tamanho do array se for multidirecional\n",
    "\n",
    "## Quantas idades são maiores que 18?\n",
    "#1ª forma de resposta\n",
    "#idade_maior = idade>18\n",
    "#len(idade[idade_maior])\n",
    "\n",
    "#2ª forma de resposta\n",
    "#len(idade[idade>18])\n",
    "\n",
    "#3ª forma de resposta\n",
    "#sum(idade_maior) # retorna um vertor\n",
    "#idade_maior.sum() # retorna o valor(no caso soma os valores da tabela, nesse caso boleanos) \n",
    "\n",
    "#4ª forma np.extract(condicao,array), nesse caso retorna o array com as idade selecionada\n",
    "idade_maior = np.extract(idade>18,idade)"
   ]
  },
  {
   "cell_type": "code",
   "execution_count": 25,
   "id": "3db6179d",
   "metadata": {},
   "outputs": [
    {
     "data": {
      "text/plain": [
       "0"
      ]
     },
     "execution_count": 25,
     "metadata": {},
     "output_type": "execute_result"
    }
   ],
   "source": [
    "0"
   ]
  },
  {
   "cell_type": "code",
   "execution_count": 20,
   "id": "f6482442",
   "metadata": {},
   "outputs": [
    {
     "data": {
      "text/plain": [
       "array([44, 55, 52, 38, 30, 45, 54, 29, 23, 42, 25, 38, 30, 27, 28, 56, 42,\n",
       "       23, 40, 30, 54, 26, 46, 27, 34, 51, 56, 39, 37, 30, 34, 54, 21, 35,\n",
       "       40, 51, 20, 38, 50, 41, 22, 51, 47, 46, 54, 29, 36, 40, 49, 28, 28,\n",
       "       41, 26, 59, 29, 24, 36, 42, 51, 54, 20, 33, 38, 43, 22, 30, 55, 53,\n",
       "       55, 24, 52, 36, 41, 21, 25, 32, 22, 33, 23, 19, 19, 44, 52, 22, 43,\n",
       "       28, 58, 51, 49, 50, 48, 32, 51, 55, 27, 35, 49, 49, 50, 32, 35, 30,\n",
       "       59, 20, 40, 42, 34, 25, 44, 36, 36, 51, 19, 20, 40, 38, 39, 28, 43,\n",
       "       27, 42, 43, 54, 46, 45, 19, 57, 48, 30, 28, 28, 22, 50, 22, 32, 32,\n",
       "       58, 37, 19, 31, 58, 24, 58, 59, 28, 27, 59, 35, 22, 21, 47, 57, 34,\n",
       "       38, 24, 19, 51, 36, 37, 57, 23, 51, 31, 54, 52, 57, 50, 38, 48, 54,\n",
       "       36, 39, 48, 39, 46, 53, 35, 29, 27, 30, 59, 31, 58, 30, 42, 19, 56,\n",
       "       24, 46, 53, 23, 21, 45, 36, 53, 58, 53, 37, 21, 52, 34, 53, 37, 35,\n",
       "       58, 47, 36, 33, 35, 22, 47, 40, 20, 48, 36, 27, 31, 56, 40, 42, 38,\n",
       "       30, 20, 20, 19, 40, 47, 57, 50, 31, 30, 47, 38, 41, 36, 40, 33, 55,\n",
       "       31, 37, 56, 41, 36, 52, 30, 38, 23, 49, 49, 27, 56, 32, 29, 46, 27,\n",
       "       41, 31, 32, 35, 45, 40, 46, 35, 31, 53, 46, 56, 34, 48, 26, 30, 44,\n",
       "       51, 40, 20, 25, 34, 52, 43, 35, 46, 35, 47, 40, 45, 54, 51, 55, 53,\n",
       "       48, 37, 21, 45, 34, 38, 31, 40, 46, 52, 59, 47, 20, 19, 36, 51, 35,\n",
       "       45, 44, 58, 35, 20, 37, 19, 57, 32, 45, 39, 21, 54, 34, 39, 58, 38,\n",
       "       27, 59, 35, 23, 31, 22, 36, 42, 49, 38, 53, 21, 26, 50, 48, 34, 35,\n",
       "       37, 46, 37, 21, 27, 20, 46, 47, 22, 41, 38, 35, 40, 52, 29, 57, 36,\n",
       "       20, 26, 36, 47, 29, 38, 25, 19, 27, 33, 33, 23, 45, 29, 52, 21, 56,\n",
       "       55, 29, 44, 47, 58, 57, 23, 27, 25, 43, 46, 43, 35, 45, 50, 29, 53,\n",
       "       24, 54, 37, 56, 24, 55, 45, 19, 23, 53, 49, 32, 21, 48, 37, 43, 30,\n",
       "       47, 44, 20, 32, 22, 26, 30, 49, 33, 42, 51, 19, 40, 55, 42, 31, 32,\n",
       "       29, 56, 23, 45, 46, 41, 53, 34, 33, 46, 43, 50, 25, 59, 21, 45, 25,\n",
       "       34, 49, 47, 34, 41, 49, 52, 57, 48, 31, 39, 47, 25, 35, 19, 36, 39])"
      ]
     },
     "execution_count": 20,
     "metadata": {},
     "output_type": "execute_result"
    }
   ],
   "source": [
    "idade_maior "
   ]
  },
  {
   "cell_type": "code",
   "execution_count": null,
   "id": "4fa99474",
   "metadata": {},
   "outputs": [],
   "source": []
  },
  {
   "cell_type": "code",
   "execution_count": null,
   "id": "5c6e5f83",
   "metadata": {},
   "outputs": [],
   "source": []
  },
  {
   "cell_type": "code",
   "execution_count": null,
   "id": "146eeccf",
   "metadata": {},
   "outputs": [],
   "source": []
  }
 ],
 "metadata": {
  "kernelspec": {
   "display_name": "Python 3 (ipykernel)",
   "language": "python",
   "name": "python3"
  },
  "language_info": {
   "codemirror_mode": {
    "name": "ipython",
    "version": 3
   },
   "file_extension": ".py",
   "mimetype": "text/x-python",
   "name": "python",
   "nbconvert_exporter": "python",
   "pygments_lexer": "ipython3",
   "version": "3.9.13"
  }
 },
 "nbformat": 4,
 "nbformat_minor": 5
}
